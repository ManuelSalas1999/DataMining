{
 "cells": [
  {
   "cell_type": "code",
   "execution_count": 1,
   "id": "0d38976b",
   "metadata": {},
   "outputs": [],
   "source": [
    "import faker\n",
    "import numpy as np\n",
    "import pandas as pd\n"
   ]
  },
  {
   "cell_type": "code",
   "execution_count": 2,
   "id": "51ef0805",
   "metadata": {},
   "outputs": [],
   "source": [
    "df=pd.read_csv('Titanic.tsv', sep='\\t')\n"
   ]
  },
  {
   "cell_type": "code",
   "execution_count": 3,
   "id": "186c6495",
   "metadata": {},
   "outputs": [
    {
     "name": "stdout",
     "output_type": "stream",
     "text": [
      "<class 'pandas.core.frame.DataFrame'>\n",
      "RangeIndex: 894 entries, 0 to 893\n",
      "Data columns (total 13 columns):\n",
      " #   Column       Non-Null Count  Dtype  \n",
      "---  ------       --------------  -----  \n",
      " 0   PassengerId  894 non-null    int64  \n",
      " 1   Survived     894 non-null    int64  \n",
      " 2   Pclass       894 non-null    float64\n",
      " 3   Name         894 non-null    object \n",
      " 4   Sex          894 non-null    object \n",
      " 5   Age          721 non-null    object \n",
      " 6   SibSp        894 non-null    int64  \n",
      " 7   Parch        894 non-null    object \n",
      " 8   Ticket       893 non-null    object \n",
      " 9   Fare         893 non-null    object \n",
      " 10  Cabin        208 non-null    object \n",
      " 11  Embarked     892 non-null    object \n",
      " 12  ship         894 non-null    object \n",
      "dtypes: float64(1), int64(3), object(9)\n",
      "memory usage: 90.9+ KB\n"
     ]
    }
   ],
   "source": [
    "df.info()"
   ]
  },
  {
   "cell_type": "code",
   "execution_count": 4,
   "id": "2fa96824",
   "metadata": {},
   "outputs": [
    {
     "data": {
      "text/html": [
       "<div>\n",
       "<style scoped>\n",
       "    .dataframe tbody tr th:only-of-type {\n",
       "        vertical-align: middle;\n",
       "    }\n",
       "\n",
       "    .dataframe tbody tr th {\n",
       "        vertical-align: top;\n",
       "    }\n",
       "\n",
       "    .dataframe thead th {\n",
       "        text-align: right;\n",
       "    }\n",
       "</style>\n",
       "<table border=\"1\" class=\"dataframe\">\n",
       "  <thead>\n",
       "    <tr style=\"text-align: right;\">\n",
       "      <th></th>\n",
       "      <th>PassengerId</th>\n",
       "      <th>Survived</th>\n",
       "      <th>Pclass</th>\n",
       "      <th>Name</th>\n",
       "      <th>Sex</th>\n",
       "      <th>Age</th>\n",
       "      <th>SibSp</th>\n",
       "      <th>Parch</th>\n",
       "      <th>Ticket</th>\n",
       "      <th>Fare</th>\n",
       "      <th>Cabin</th>\n",
       "      <th>Embarked</th>\n",
       "      <th>ship</th>\n",
       "    </tr>\n",
       "  </thead>\n",
       "  <tbody>\n",
       "    <tr>\n",
       "      <th>0</th>\n",
       "      <td>1</td>\n",
       "      <td>0</td>\n",
       "      <td>3.0</td>\n",
       "      <td>Braund, Mr. Owen Harris</td>\n",
       "      <td>male</td>\n",
       "      <td>22</td>\n",
       "      <td>1</td>\n",
       "      <td>0</td>\n",
       "      <td>A/5 21171</td>\n",
       "      <td>7,25</td>\n",
       "      <td>NaN</td>\n",
       "      <td>S</td>\n",
       "      <td>Titanic</td>\n",
       "    </tr>\n",
       "    <tr>\n",
       "      <th>1</th>\n",
       "      <td>2</td>\n",
       "      <td>1</td>\n",
       "      <td>1.0</td>\n",
       "      <td>Cumings, Mrs. John Bradley (Florence Briggs Th...</td>\n",
       "      <td>female</td>\n",
       "      <td>38</td>\n",
       "      <td>1</td>\n",
       "      <td>0</td>\n",
       "      <td>PC 17599</td>\n",
       "      <td>71,2833</td>\n",
       "      <td>C85</td>\n",
       "      <td>C</td>\n",
       "      <td>Titanic</td>\n",
       "    </tr>\n",
       "    <tr>\n",
       "      <th>2</th>\n",
       "      <td>3</td>\n",
       "      <td>1</td>\n",
       "      <td>3.0</td>\n",
       "      <td>Heikkinen, Miss. Laina</td>\n",
       "      <td>female</td>\n",
       "      <td>26</td>\n",
       "      <td>0</td>\n",
       "      <td>0</td>\n",
       "      <td>STON/O2. 3101282</td>\n",
       "      <td>7,925</td>\n",
       "      <td>NaN</td>\n",
       "      <td>S</td>\n",
       "      <td>Titanic</td>\n",
       "    </tr>\n",
       "    <tr>\n",
       "      <th>3</th>\n",
       "      <td>4</td>\n",
       "      <td>1</td>\n",
       "      <td>1.0</td>\n",
       "      <td>Futrelle, Mrs. Jacques Heath (Lily May Peel)</td>\n",
       "      <td>female</td>\n",
       "      <td>35</td>\n",
       "      <td>1</td>\n",
       "      <td>0</td>\n",
       "      <td>113803</td>\n",
       "      <td>53,1</td>\n",
       "      <td>C123</td>\n",
       "      <td>S</td>\n",
       "      <td>Titanic</td>\n",
       "    </tr>\n",
       "    <tr>\n",
       "      <th>4</th>\n",
       "      <td>5</td>\n",
       "      <td>0</td>\n",
       "      <td>3.0</td>\n",
       "      <td>Allen, Mr. William Henry</td>\n",
       "      <td>male</td>\n",
       "      <td>35</td>\n",
       "      <td>0</td>\n",
       "      <td>0</td>\n",
       "      <td>373450</td>\n",
       "      <td>8,05</td>\n",
       "      <td>NaN</td>\n",
       "      <td>S</td>\n",
       "      <td>Titanic</td>\n",
       "    </tr>\n",
       "  </tbody>\n",
       "</table>\n",
       "</div>"
      ],
      "text/plain": [
       "   PassengerId  Survived  Pclass  \\\n",
       "0            1         0     3.0   \n",
       "1            2         1     1.0   \n",
       "2            3         1     3.0   \n",
       "3            4         1     1.0   \n",
       "4            5         0     3.0   \n",
       "\n",
       "                                                Name     Sex Age  SibSp Parch  \\\n",
       "0                            Braund, Mr. Owen Harris    male  22      1     0   \n",
       "1  Cumings, Mrs. John Bradley (Florence Briggs Th...  female  38      1     0   \n",
       "2                             Heikkinen, Miss. Laina  female  26      0     0   \n",
       "3       Futrelle, Mrs. Jacques Heath (Lily May Peel)  female  35      1     0   \n",
       "4                           Allen, Mr. William Henry    male  35      0     0   \n",
       "\n",
       "             Ticket     Fare Cabin Embarked     ship  \n",
       "0         A/5 21171     7,25   NaN        S  Titanic  \n",
       "1          PC 17599  71,2833   C85        C  Titanic  \n",
       "2  STON/O2. 3101282    7,925   NaN        S  Titanic  \n",
       "3            113803     53,1  C123        S  Titanic  \n",
       "4            373450     8,05   NaN        S  Titanic  "
      ]
     },
     "execution_count": 4,
     "metadata": {},
     "output_type": "execute_result"
    }
   ],
   "source": [
    "df.head()"
   ]
  },
  {
   "cell_type": "code",
   "execution_count": 5,
   "id": "e1fb5558",
   "metadata": {},
   "outputs": [
    {
     "data": {
      "text/plain": [
       "count                                    894\n",
       "unique                                   889\n",
       "top       Sandstrom, Miss. Marguerite Ru&5$$\n",
       "freq                                       4\n",
       "Name: Name, dtype: object"
      ]
     },
     "execution_count": 5,
     "metadata": {},
     "output_type": "execute_result"
    }
   ],
   "source": [
    "df[\"Name\"].describe()"
   ]
  },
  {
   "cell_type": "code",
   "execution_count": 6,
   "id": "02a3a955",
   "metadata": {},
   "outputs": [
    {
     "data": {
      "text/plain": [
       "Sandstrom, Miss. Marguerite Ru&5$$      4\n",
       "Hoyt, Mr. Frederick Maxfield            2\n",
       "Vestrom, Miss. Hulda Amanda Adolfina    2\n",
       "Braund, Mr. Owen Harris                 1\n",
       "Slabenoff, Mr. Petco                    1\n",
       "                                       ..\n",
       "Keane, Miss. Nora A                     1\n",
       "Williams, Mr. Howard Hugh \"Harry\"       1\n",
       "Allison, Master. Hudson Trevor          1\n",
       "Fleming, Miss. Margaret                 1\n",
       "Mr. Frederick Maxfield Hoyt             1\n",
       "Name: Name, Length: 889, dtype: int64"
      ]
     },
     "execution_count": 6,
     "metadata": {},
     "output_type": "execute_result"
    }
   ],
   "source": [
    "df['Name'].value_counts()"
   ]
  },
  {
   "cell_type": "markdown",
   "id": "0a8afe23",
   "metadata": {},
   "source": [
    "### Fixing passengerid Column"
   ]
  },
  {
   "cell_type": "code",
   "execution_count": 7,
   "id": "6abd8344",
   "metadata": {
    "scrolled": true
   },
   "outputs": [
    {
     "data": {
      "text/plain": [
       "count     894.000000\n",
       "mean      446.030201\n",
       "std       259.208003\n",
       "min       -12.000000\n",
       "25%       223.250000\n",
       "50%       444.500000\n",
       "75%       668.750000\n",
       "max      1143.000000\n",
       "Name: PassengerId, dtype: float64"
      ]
     },
     "execution_count": 7,
     "metadata": {},
     "output_type": "execute_result"
    }
   ],
   "source": [
    "df[\"PassengerId\"].describe()"
   ]
  },
  {
   "cell_type": "code",
   "execution_count": 8,
   "id": "bdf0e5a3",
   "metadata": {},
   "outputs": [
    {
     "data": {
      "text/plain": [
       " 225    3\n",
       " 11     3\n",
       " 1      1\n",
       " 603    1\n",
       " 592    1\n",
       "       ..\n",
       " 304    1\n",
       " 305    1\n",
       " 306    1\n",
       " 307    1\n",
       "-12     1\n",
       "Name: PassengerId, Length: 890, dtype: int64"
      ]
     },
     "execution_count": 8,
     "metadata": {},
     "output_type": "execute_result"
    }
   ],
   "source": [
    "df[\"PassengerId\"].value_counts()"
   ]
  },
  {
   "cell_type": "markdown",
   "id": "54dc9f4d",
   "metadata": {},
   "source": [
    "##### Drop passengerid"
   ]
  },
  {
   "cell_type": "code",
   "execution_count": 9,
   "id": "da2e37ea",
   "metadata": {},
   "outputs": [],
   "source": [
    "df.drop(['PassengerId'], axis=1, inplace=True)"
   ]
  },
  {
   "cell_type": "code",
   "execution_count": 10,
   "id": "09846ffc",
   "metadata": {
    "scrolled": false
   },
   "outputs": [
    {
     "data": {
      "text/html": [
       "<div>\n",
       "<style scoped>\n",
       "    .dataframe tbody tr th:only-of-type {\n",
       "        vertical-align: middle;\n",
       "    }\n",
       "\n",
       "    .dataframe tbody tr th {\n",
       "        vertical-align: top;\n",
       "    }\n",
       "\n",
       "    .dataframe thead th {\n",
       "        text-align: right;\n",
       "    }\n",
       "</style>\n",
       "<table border=\"1\" class=\"dataframe\">\n",
       "  <thead>\n",
       "    <tr style=\"text-align: right;\">\n",
       "      <th></th>\n",
       "      <th>Survived</th>\n",
       "      <th>Pclass</th>\n",
       "      <th>Name</th>\n",
       "      <th>Sex</th>\n",
       "      <th>Age</th>\n",
       "      <th>SibSp</th>\n",
       "      <th>Parch</th>\n",
       "      <th>Ticket</th>\n",
       "      <th>Fare</th>\n",
       "      <th>Cabin</th>\n",
       "      <th>Embarked</th>\n",
       "      <th>ship</th>\n",
       "    </tr>\n",
       "  </thead>\n",
       "  <tbody>\n",
       "    <tr>\n",
       "      <th>0</th>\n",
       "      <td>0</td>\n",
       "      <td>3.0</td>\n",
       "      <td>Braund, Mr. Owen Harris</td>\n",
       "      <td>male</td>\n",
       "      <td>22</td>\n",
       "      <td>1</td>\n",
       "      <td>0</td>\n",
       "      <td>A/5 21171</td>\n",
       "      <td>7,25</td>\n",
       "      <td>NaN</td>\n",
       "      <td>S</td>\n",
       "      <td>Titanic</td>\n",
       "    </tr>\n",
       "    <tr>\n",
       "      <th>1</th>\n",
       "      <td>1</td>\n",
       "      <td>1.0</td>\n",
       "      <td>Cumings, Mrs. John Bradley (Florence Briggs Th...</td>\n",
       "      <td>female</td>\n",
       "      <td>38</td>\n",
       "      <td>1</td>\n",
       "      <td>0</td>\n",
       "      <td>PC 17599</td>\n",
       "      <td>71,2833</td>\n",
       "      <td>C85</td>\n",
       "      <td>C</td>\n",
       "      <td>Titanic</td>\n",
       "    </tr>\n",
       "    <tr>\n",
       "      <th>2</th>\n",
       "      <td>1</td>\n",
       "      <td>3.0</td>\n",
       "      <td>Heikkinen, Miss. Laina</td>\n",
       "      <td>female</td>\n",
       "      <td>26</td>\n",
       "      <td>0</td>\n",
       "      <td>0</td>\n",
       "      <td>STON/O2. 3101282</td>\n",
       "      <td>7,925</td>\n",
       "      <td>NaN</td>\n",
       "      <td>S</td>\n",
       "      <td>Titanic</td>\n",
       "    </tr>\n",
       "    <tr>\n",
       "      <th>3</th>\n",
       "      <td>1</td>\n",
       "      <td>1.0</td>\n",
       "      <td>Futrelle, Mrs. Jacques Heath (Lily May Peel)</td>\n",
       "      <td>female</td>\n",
       "      <td>35</td>\n",
       "      <td>1</td>\n",
       "      <td>0</td>\n",
       "      <td>113803</td>\n",
       "      <td>53,1</td>\n",
       "      <td>C123</td>\n",
       "      <td>S</td>\n",
       "      <td>Titanic</td>\n",
       "    </tr>\n",
       "    <tr>\n",
       "      <th>4</th>\n",
       "      <td>0</td>\n",
       "      <td>3.0</td>\n",
       "      <td>Allen, Mr. William Henry</td>\n",
       "      <td>male</td>\n",
       "      <td>35</td>\n",
       "      <td>0</td>\n",
       "      <td>0</td>\n",
       "      <td>373450</td>\n",
       "      <td>8,05</td>\n",
       "      <td>NaN</td>\n",
       "      <td>S</td>\n",
       "      <td>Titanic</td>\n",
       "    </tr>\n",
       "  </tbody>\n",
       "</table>\n",
       "</div>"
      ],
      "text/plain": [
       "   Survived  Pclass                                               Name  \\\n",
       "0         0     3.0                            Braund, Mr. Owen Harris   \n",
       "1         1     1.0  Cumings, Mrs. John Bradley (Florence Briggs Th...   \n",
       "2         1     3.0                             Heikkinen, Miss. Laina   \n",
       "3         1     1.0       Futrelle, Mrs. Jacques Heath (Lily May Peel)   \n",
       "4         0     3.0                           Allen, Mr. William Henry   \n",
       "\n",
       "      Sex Age  SibSp Parch            Ticket     Fare Cabin Embarked     ship  \n",
       "0    male  22      1     0         A/5 21171     7,25   NaN        S  Titanic  \n",
       "1  female  38      1     0          PC 17599  71,2833   C85        C  Titanic  \n",
       "2  female  26      0     0  STON/O2. 3101282    7,925   NaN        S  Titanic  \n",
       "3  female  35      1     0            113803     53,1  C123        S  Titanic  \n",
       "4    male  35      0     0            373450     8,05   NaN        S  Titanic  "
      ]
     },
     "execution_count": 10,
     "metadata": {},
     "output_type": "execute_result"
    }
   ],
   "source": [
    "df.head()"
   ]
  },
  {
   "cell_type": "markdown",
   "id": "1222067e",
   "metadata": {},
   "source": [
    "##### Creating new passengerid column\n"
   ]
  },
  {
   "cell_type": "code",
   "execution_count": 11,
   "id": "ae084687",
   "metadata": {},
   "outputs": [],
   "source": [
    "df['PassengerId'] = df.index + 1"
   ]
  },
  {
   "cell_type": "code",
   "execution_count": 12,
   "id": "bdc2fab7",
   "metadata": {},
   "outputs": [
    {
     "data": {
      "text/html": [
       "<div>\n",
       "<style scoped>\n",
       "    .dataframe tbody tr th:only-of-type {\n",
       "        vertical-align: middle;\n",
       "    }\n",
       "\n",
       "    .dataframe tbody tr th {\n",
       "        vertical-align: top;\n",
       "    }\n",
       "\n",
       "    .dataframe thead th {\n",
       "        text-align: right;\n",
       "    }\n",
       "</style>\n",
       "<table border=\"1\" class=\"dataframe\">\n",
       "  <thead>\n",
       "    <tr style=\"text-align: right;\">\n",
       "      <th></th>\n",
       "      <th>Survived</th>\n",
       "      <th>Pclass</th>\n",
       "      <th>Name</th>\n",
       "      <th>Sex</th>\n",
       "      <th>Age</th>\n",
       "      <th>SibSp</th>\n",
       "      <th>Parch</th>\n",
       "      <th>Ticket</th>\n",
       "      <th>Fare</th>\n",
       "      <th>Cabin</th>\n",
       "      <th>Embarked</th>\n",
       "      <th>ship</th>\n",
       "      <th>PassengerId</th>\n",
       "    </tr>\n",
       "  </thead>\n",
       "  <tbody>\n",
       "    <tr>\n",
       "      <th>0</th>\n",
       "      <td>0</td>\n",
       "      <td>3.0</td>\n",
       "      <td>Braund, Mr. Owen Harris</td>\n",
       "      <td>male</td>\n",
       "      <td>22</td>\n",
       "      <td>1</td>\n",
       "      <td>0</td>\n",
       "      <td>A/5 21171</td>\n",
       "      <td>7,25</td>\n",
       "      <td>NaN</td>\n",
       "      <td>S</td>\n",
       "      <td>Titanic</td>\n",
       "      <td>1</td>\n",
       "    </tr>\n",
       "    <tr>\n",
       "      <th>1</th>\n",
       "      <td>1</td>\n",
       "      <td>1.0</td>\n",
       "      <td>Cumings, Mrs. John Bradley (Florence Briggs Th...</td>\n",
       "      <td>female</td>\n",
       "      <td>38</td>\n",
       "      <td>1</td>\n",
       "      <td>0</td>\n",
       "      <td>PC 17599</td>\n",
       "      <td>71,2833</td>\n",
       "      <td>C85</td>\n",
       "      <td>C</td>\n",
       "      <td>Titanic</td>\n",
       "      <td>2</td>\n",
       "    </tr>\n",
       "    <tr>\n",
       "      <th>2</th>\n",
       "      <td>1</td>\n",
       "      <td>3.0</td>\n",
       "      <td>Heikkinen, Miss. Laina</td>\n",
       "      <td>female</td>\n",
       "      <td>26</td>\n",
       "      <td>0</td>\n",
       "      <td>0</td>\n",
       "      <td>STON/O2. 3101282</td>\n",
       "      <td>7,925</td>\n",
       "      <td>NaN</td>\n",
       "      <td>S</td>\n",
       "      <td>Titanic</td>\n",
       "      <td>3</td>\n",
       "    </tr>\n",
       "    <tr>\n",
       "      <th>3</th>\n",
       "      <td>1</td>\n",
       "      <td>1.0</td>\n",
       "      <td>Futrelle, Mrs. Jacques Heath (Lily May Peel)</td>\n",
       "      <td>female</td>\n",
       "      <td>35</td>\n",
       "      <td>1</td>\n",
       "      <td>0</td>\n",
       "      <td>113803</td>\n",
       "      <td>53,1</td>\n",
       "      <td>C123</td>\n",
       "      <td>S</td>\n",
       "      <td>Titanic</td>\n",
       "      <td>4</td>\n",
       "    </tr>\n",
       "    <tr>\n",
       "      <th>4</th>\n",
       "      <td>0</td>\n",
       "      <td>3.0</td>\n",
       "      <td>Allen, Mr. William Henry</td>\n",
       "      <td>male</td>\n",
       "      <td>35</td>\n",
       "      <td>0</td>\n",
       "      <td>0</td>\n",
       "      <td>373450</td>\n",
       "      <td>8,05</td>\n",
       "      <td>NaN</td>\n",
       "      <td>S</td>\n",
       "      <td>Titanic</td>\n",
       "      <td>5</td>\n",
       "    </tr>\n",
       "  </tbody>\n",
       "</table>\n",
       "</div>"
      ],
      "text/plain": [
       "   Survived  Pclass                                               Name  \\\n",
       "0         0     3.0                            Braund, Mr. Owen Harris   \n",
       "1         1     1.0  Cumings, Mrs. John Bradley (Florence Briggs Th...   \n",
       "2         1     3.0                             Heikkinen, Miss. Laina   \n",
       "3         1     1.0       Futrelle, Mrs. Jacques Heath (Lily May Peel)   \n",
       "4         0     3.0                           Allen, Mr. William Henry   \n",
       "\n",
       "      Sex Age  SibSp Parch            Ticket     Fare Cabin Embarked     ship  \\\n",
       "0    male  22      1     0         A/5 21171     7,25   NaN        S  Titanic   \n",
       "1  female  38      1     0          PC 17599  71,2833   C85        C  Titanic   \n",
       "2  female  26      0     0  STON/O2. 3101282    7,925   NaN        S  Titanic   \n",
       "3  female  35      1     0            113803     53,1  C123        S  Titanic   \n",
       "4    male  35      0     0            373450     8,05   NaN        S  Titanic   \n",
       "\n",
       "   PassengerId  \n",
       "0            1  \n",
       "1            2  \n",
       "2            3  \n",
       "3            4  \n",
       "4            5  "
      ]
     },
     "execution_count": 12,
     "metadata": {},
     "output_type": "execute_result"
    }
   ],
   "source": [
    "df.head()"
   ]
  },
  {
   "cell_type": "code",
   "execution_count": 13,
   "id": "f36eb709",
   "metadata": {},
   "outputs": [],
   "source": [
    "df = df.loc[:,['PassengerId','Survived','Pclass','Name','Sex','Age','SibSp','Parch','Ticket','Fare','Cabin','Embarked','ship']]\n"
   ]
  },
  {
   "cell_type": "code",
   "execution_count": 14,
   "id": "d6afa4c3",
   "metadata": {},
   "outputs": [
    {
     "data": {
      "text/html": [
       "<div>\n",
       "<style scoped>\n",
       "    .dataframe tbody tr th:only-of-type {\n",
       "        vertical-align: middle;\n",
       "    }\n",
       "\n",
       "    .dataframe tbody tr th {\n",
       "        vertical-align: top;\n",
       "    }\n",
       "\n",
       "    .dataframe thead th {\n",
       "        text-align: right;\n",
       "    }\n",
       "</style>\n",
       "<table border=\"1\" class=\"dataframe\">\n",
       "  <thead>\n",
       "    <tr style=\"text-align: right;\">\n",
       "      <th></th>\n",
       "      <th>PassengerId</th>\n",
       "      <th>Survived</th>\n",
       "      <th>Pclass</th>\n",
       "      <th>Name</th>\n",
       "      <th>Sex</th>\n",
       "      <th>Age</th>\n",
       "      <th>SibSp</th>\n",
       "      <th>Parch</th>\n",
       "      <th>Ticket</th>\n",
       "      <th>Fare</th>\n",
       "      <th>Cabin</th>\n",
       "      <th>Embarked</th>\n",
       "      <th>ship</th>\n",
       "    </tr>\n",
       "  </thead>\n",
       "  <tbody>\n",
       "    <tr>\n",
       "      <th>0</th>\n",
       "      <td>1</td>\n",
       "      <td>0</td>\n",
       "      <td>3.0</td>\n",
       "      <td>Braund, Mr. Owen Harris</td>\n",
       "      <td>male</td>\n",
       "      <td>22</td>\n",
       "      <td>1</td>\n",
       "      <td>0</td>\n",
       "      <td>A/5 21171</td>\n",
       "      <td>7,25</td>\n",
       "      <td>NaN</td>\n",
       "      <td>S</td>\n",
       "      <td>Titanic</td>\n",
       "    </tr>\n",
       "    <tr>\n",
       "      <th>1</th>\n",
       "      <td>2</td>\n",
       "      <td>1</td>\n",
       "      <td>1.0</td>\n",
       "      <td>Cumings, Mrs. John Bradley (Florence Briggs Th...</td>\n",
       "      <td>female</td>\n",
       "      <td>38</td>\n",
       "      <td>1</td>\n",
       "      <td>0</td>\n",
       "      <td>PC 17599</td>\n",
       "      <td>71,2833</td>\n",
       "      <td>C85</td>\n",
       "      <td>C</td>\n",
       "      <td>Titanic</td>\n",
       "    </tr>\n",
       "    <tr>\n",
       "      <th>2</th>\n",
       "      <td>3</td>\n",
       "      <td>1</td>\n",
       "      <td>3.0</td>\n",
       "      <td>Heikkinen, Miss. Laina</td>\n",
       "      <td>female</td>\n",
       "      <td>26</td>\n",
       "      <td>0</td>\n",
       "      <td>0</td>\n",
       "      <td>STON/O2. 3101282</td>\n",
       "      <td>7,925</td>\n",
       "      <td>NaN</td>\n",
       "      <td>S</td>\n",
       "      <td>Titanic</td>\n",
       "    </tr>\n",
       "    <tr>\n",
       "      <th>3</th>\n",
       "      <td>4</td>\n",
       "      <td>1</td>\n",
       "      <td>1.0</td>\n",
       "      <td>Futrelle, Mrs. Jacques Heath (Lily May Peel)</td>\n",
       "      <td>female</td>\n",
       "      <td>35</td>\n",
       "      <td>1</td>\n",
       "      <td>0</td>\n",
       "      <td>113803</td>\n",
       "      <td>53,1</td>\n",
       "      <td>C123</td>\n",
       "      <td>S</td>\n",
       "      <td>Titanic</td>\n",
       "    </tr>\n",
       "    <tr>\n",
       "      <th>4</th>\n",
       "      <td>5</td>\n",
       "      <td>0</td>\n",
       "      <td>3.0</td>\n",
       "      <td>Allen, Mr. William Henry</td>\n",
       "      <td>male</td>\n",
       "      <td>35</td>\n",
       "      <td>0</td>\n",
       "      <td>0</td>\n",
       "      <td>373450</td>\n",
       "      <td>8,05</td>\n",
       "      <td>NaN</td>\n",
       "      <td>S</td>\n",
       "      <td>Titanic</td>\n",
       "    </tr>\n",
       "  </tbody>\n",
       "</table>\n",
       "</div>"
      ],
      "text/plain": [
       "   PassengerId  Survived  Pclass  \\\n",
       "0            1         0     3.0   \n",
       "1            2         1     1.0   \n",
       "2            3         1     3.0   \n",
       "3            4         1     1.0   \n",
       "4            5         0     3.0   \n",
       "\n",
       "                                                Name     Sex Age  SibSp Parch  \\\n",
       "0                            Braund, Mr. Owen Harris    male  22      1     0   \n",
       "1  Cumings, Mrs. John Bradley (Florence Briggs Th...  female  38      1     0   \n",
       "2                             Heikkinen, Miss. Laina  female  26      0     0   \n",
       "3       Futrelle, Mrs. Jacques Heath (Lily May Peel)  female  35      1     0   \n",
       "4                           Allen, Mr. William Henry    male  35      0     0   \n",
       "\n",
       "             Ticket     Fare Cabin Embarked     ship  \n",
       "0         A/5 21171     7,25   NaN        S  Titanic  \n",
       "1          PC 17599  71,2833   C85        C  Titanic  \n",
       "2  STON/O2. 3101282    7,925   NaN        S  Titanic  \n",
       "3            113803     53,1  C123        S  Titanic  \n",
       "4            373450     8,05   NaN        S  Titanic  "
      ]
     },
     "execution_count": 14,
     "metadata": {},
     "output_type": "execute_result"
    }
   ],
   "source": [
    "df.head()"
   ]
  },
  {
   "cell_type": "code",
   "execution_count": 15,
   "id": "c241750b",
   "metadata": {},
   "outputs": [
    {
     "data": {
      "text/plain": [
       "1      1\n",
       "601    1\n",
       "590    1\n",
       "591    1\n",
       "592    1\n",
       "      ..\n",
       "302    1\n",
       "303    1\n",
       "304    1\n",
       "305    1\n",
       "894    1\n",
       "Name: PassengerId, Length: 894, dtype: int64"
      ]
     },
     "execution_count": 15,
     "metadata": {},
     "output_type": "execute_result"
    }
   ],
   "source": [
    "df['PassengerId'].value_counts()"
   ]
  },
  {
   "cell_type": "markdown",
   "id": "b5e8250b",
   "metadata": {},
   "source": [
    "### Fixing survived columns"
   ]
  },
  {
   "cell_type": "code",
   "execution_count": 16,
   "id": "1b18d972",
   "metadata": {},
   "outputs": [
    {
     "data": {
      "text/plain": [
       " 0    548\n",
       " 1    345\n",
       "-4      1\n",
       "Name: Survived, dtype: int64"
      ]
     },
     "execution_count": 16,
     "metadata": {},
     "output_type": "execute_result"
    }
   ],
   "source": [
    "df['Survived'].value_counts()"
   ]
  },
  {
   "cell_type": "markdown",
   "id": "8325bfb2",
   "metadata": {},
   "source": [
    "##### We have one value with -4, we are going to suppose that he dies. So i change -4 for 0"
   ]
  },
  {
   "cell_type": "code",
   "execution_count": 17,
   "id": "b4d3c80c",
   "metadata": {},
   "outputs": [],
   "source": [
    "df['Survived'] = df['Survived'].replace(-4,0)"
   ]
  },
  {
   "cell_type": "code",
   "execution_count": 18,
   "id": "b24a65b4",
   "metadata": {},
   "outputs": [
    {
     "data": {
      "text/plain": [
       "0    549\n",
       "1    345\n",
       "Name: Survived, dtype: int64"
      ]
     },
     "execution_count": 18,
     "metadata": {},
     "output_type": "execute_result"
    }
   ],
   "source": [
    "df['Survived'].value_counts()"
   ]
  },
  {
   "cell_type": "markdown",
   "id": "34a0c787",
   "metadata": {},
   "source": [
    "### Fixing Pclass columns\n"
   ]
  },
  {
   "cell_type": "code",
   "execution_count": 19,
   "id": "ae36e903",
   "metadata": {},
   "outputs": [
    {
     "data": {
      "text/plain": [
       " 3.0    493\n",
       " 1.0    216\n",
       " 2.0    184\n",
       "-2.0      1\n",
       "Name: Pclass, dtype: int64"
      ]
     },
     "execution_count": 19,
     "metadata": {},
     "output_type": "execute_result"
    }
   ],
   "source": [
    "df['Pclass'].value_counts()"
   ]
  },
  {
   "cell_type": "markdown",
   "id": "91ce84ec",
   "metadata": {},
   "source": [
    "##### I am going to change the value -2.0 to 2.0"
   ]
  },
  {
   "cell_type": "code",
   "execution_count": 20,
   "id": "27b97b72",
   "metadata": {},
   "outputs": [],
   "source": [
    "df['Pclass'] = df['Pclass'].replace(-2.0,2.0)"
   ]
  },
  {
   "cell_type": "code",
   "execution_count": 21,
   "id": "58abc6bf",
   "metadata": {},
   "outputs": [
    {
     "data": {
      "text/plain": [
       "3.0    493\n",
       "1.0    216\n",
       "2.0    185\n",
       "Name: Pclass, dtype: int64"
      ]
     },
     "execution_count": 21,
     "metadata": {},
     "output_type": "execute_result"
    }
   ],
   "source": [
    "df['Pclass'].value_counts()"
   ]
  },
  {
   "cell_type": "markdown",
   "id": "871679de",
   "metadata": {},
   "source": [
    "##### And now i am going to change the name of this value by First,second and third class."
   ]
  },
  {
   "cell_type": "code",
   "execution_count": 22,
   "id": "f8942e05",
   "metadata": {},
   "outputs": [],
   "source": [
    "df['Pclass'] = df['Pclass'].replace([3.0, 2.0, 1.0], ['Third', 'Second', 'First'])"
   ]
  },
  {
   "cell_type": "code",
   "execution_count": 23,
   "id": "66777ded",
   "metadata": {},
   "outputs": [
    {
     "data": {
      "text/plain": [
       "Third     493\n",
       "First     216\n",
       "Second    185\n",
       "Name: Pclass, dtype: int64"
      ]
     },
     "execution_count": 23,
     "metadata": {},
     "output_type": "execute_result"
    }
   ],
   "source": [
    "df['Pclass'].value_counts()"
   ]
  },
  {
   "cell_type": "code",
   "execution_count": 24,
   "id": "44d6d15f",
   "metadata": {
    "scrolled": true
   },
   "outputs": [
    {
     "data": {
      "text/html": [
       "<div>\n",
       "<style scoped>\n",
       "    .dataframe tbody tr th:only-of-type {\n",
       "        vertical-align: middle;\n",
       "    }\n",
       "\n",
       "    .dataframe tbody tr th {\n",
       "        vertical-align: top;\n",
       "    }\n",
       "\n",
       "    .dataframe thead th {\n",
       "        text-align: right;\n",
       "    }\n",
       "</style>\n",
       "<table border=\"1\" class=\"dataframe\">\n",
       "  <thead>\n",
       "    <tr style=\"text-align: right;\">\n",
       "      <th></th>\n",
       "      <th>PassengerId</th>\n",
       "      <th>Survived</th>\n",
       "      <th>Pclass</th>\n",
       "      <th>Name</th>\n",
       "      <th>Sex</th>\n",
       "      <th>Age</th>\n",
       "      <th>SibSp</th>\n",
       "      <th>Parch</th>\n",
       "      <th>Ticket</th>\n",
       "      <th>Fare</th>\n",
       "      <th>Cabin</th>\n",
       "      <th>Embarked</th>\n",
       "      <th>ship</th>\n",
       "    </tr>\n",
       "  </thead>\n",
       "  <tbody>\n",
       "    <tr>\n",
       "      <th>0</th>\n",
       "      <td>1</td>\n",
       "      <td>0</td>\n",
       "      <td>Third</td>\n",
       "      <td>Braund, Mr. Owen Harris</td>\n",
       "      <td>male</td>\n",
       "      <td>22</td>\n",
       "      <td>1</td>\n",
       "      <td>0</td>\n",
       "      <td>A/5 21171</td>\n",
       "      <td>7,25</td>\n",
       "      <td>NaN</td>\n",
       "      <td>S</td>\n",
       "      <td>Titanic</td>\n",
       "    </tr>\n",
       "    <tr>\n",
       "      <th>1</th>\n",
       "      <td>2</td>\n",
       "      <td>1</td>\n",
       "      <td>First</td>\n",
       "      <td>Cumings, Mrs. John Bradley (Florence Briggs Th...</td>\n",
       "      <td>female</td>\n",
       "      <td>38</td>\n",
       "      <td>1</td>\n",
       "      <td>0</td>\n",
       "      <td>PC 17599</td>\n",
       "      <td>71,2833</td>\n",
       "      <td>C85</td>\n",
       "      <td>C</td>\n",
       "      <td>Titanic</td>\n",
       "    </tr>\n",
       "    <tr>\n",
       "      <th>2</th>\n",
       "      <td>3</td>\n",
       "      <td>1</td>\n",
       "      <td>Third</td>\n",
       "      <td>Heikkinen, Miss. Laina</td>\n",
       "      <td>female</td>\n",
       "      <td>26</td>\n",
       "      <td>0</td>\n",
       "      <td>0</td>\n",
       "      <td>STON/O2. 3101282</td>\n",
       "      <td>7,925</td>\n",
       "      <td>NaN</td>\n",
       "      <td>S</td>\n",
       "      <td>Titanic</td>\n",
       "    </tr>\n",
       "    <tr>\n",
       "      <th>3</th>\n",
       "      <td>4</td>\n",
       "      <td>1</td>\n",
       "      <td>First</td>\n",
       "      <td>Futrelle, Mrs. Jacques Heath (Lily May Peel)</td>\n",
       "      <td>female</td>\n",
       "      <td>35</td>\n",
       "      <td>1</td>\n",
       "      <td>0</td>\n",
       "      <td>113803</td>\n",
       "      <td>53,1</td>\n",
       "      <td>C123</td>\n",
       "      <td>S</td>\n",
       "      <td>Titanic</td>\n",
       "    </tr>\n",
       "    <tr>\n",
       "      <th>4</th>\n",
       "      <td>5</td>\n",
       "      <td>0</td>\n",
       "      <td>Third</td>\n",
       "      <td>Allen, Mr. William Henry</td>\n",
       "      <td>male</td>\n",
       "      <td>35</td>\n",
       "      <td>0</td>\n",
       "      <td>0</td>\n",
       "      <td>373450</td>\n",
       "      <td>8,05</td>\n",
       "      <td>NaN</td>\n",
       "      <td>S</td>\n",
       "      <td>Titanic</td>\n",
       "    </tr>\n",
       "  </tbody>\n",
       "</table>\n",
       "</div>"
      ],
      "text/plain": [
       "   PassengerId  Survived Pclass  \\\n",
       "0            1         0  Third   \n",
       "1            2         1  First   \n",
       "2            3         1  Third   \n",
       "3            4         1  First   \n",
       "4            5         0  Third   \n",
       "\n",
       "                                                Name     Sex Age  SibSp Parch  \\\n",
       "0                            Braund, Mr. Owen Harris    male  22      1     0   \n",
       "1  Cumings, Mrs. John Bradley (Florence Briggs Th...  female  38      1     0   \n",
       "2                             Heikkinen, Miss. Laina  female  26      0     0   \n",
       "3       Futrelle, Mrs. Jacques Heath (Lily May Peel)  female  35      1     0   \n",
       "4                           Allen, Mr. William Henry    male  35      0     0   \n",
       "\n",
       "             Ticket     Fare Cabin Embarked     ship  \n",
       "0         A/5 21171     7,25   NaN        S  Titanic  \n",
       "1          PC 17599  71,2833   C85        C  Titanic  \n",
       "2  STON/O2. 3101282    7,925   NaN        S  Titanic  \n",
       "3            113803     53,1  C123        S  Titanic  \n",
       "4            373450     8,05   NaN        S  Titanic  "
      ]
     },
     "execution_count": 24,
     "metadata": {},
     "output_type": "execute_result"
    }
   ],
   "source": [
    "df.head()"
   ]
  },
  {
   "cell_type": "markdown",
   "id": "f8bbbe61",
   "metadata": {},
   "source": [
    "### Fixing Sex columns\n"
   ]
  },
  {
   "cell_type": "code",
   "execution_count": 25,
   "id": "2772ab51",
   "metadata": {},
   "outputs": [
    {
     "data": {
      "text/plain": [
       "male       575\n",
       "female     310\n",
       "fem          2\n",
       "malef        1\n",
       "mal          1\n",
       "femmale      1\n",
       "feemale      1\n",
       "Female       1\n",
       "malee        1\n",
       "F            1\n",
       "Name: Sex, dtype: int64"
      ]
     },
     "execution_count": 25,
     "metadata": {},
     "output_type": "execute_result"
    }
   ],
   "source": [
    "df['Sex'].value_counts()"
   ]
  },
  {
   "cell_type": "markdown",
   "id": "c48fc886",
   "metadata": {},
   "source": [
    "##### We can see we have differents ways to write male and female, so we are going to fix this."
   ]
  },
  {
   "cell_type": "code",
   "execution_count": 26,
   "id": "3b270e07",
   "metadata": {},
   "outputs": [],
   "source": [
    "df['Sex'] = df['Sex'].replace('fem','female')\n",
    "df['Sex'] = df['Sex'].replace('malef','male')\n",
    "df['Sex'] = df['Sex'].replace('mal','male')\n",
    "df['Sex'] = df['Sex'].replace('femmale','female')\n",
    "df['Sex'] = df['Sex'].replace('feemale','female')\n",
    "df['Sex'] = df['Sex'].replace('Female','female')\n",
    "df['Sex'] = df['Sex'].replace('malee','male')\n",
    "df['Sex'] = df['Sex'].replace('F','female')"
   ]
  },
  {
   "cell_type": "code",
   "execution_count": 27,
   "id": "c1b432c5",
   "metadata": {},
   "outputs": [
    {
     "data": {
      "text/plain": [
       "male      578\n",
       "female    316\n",
       "Name: Sex, dtype: int64"
      ]
     },
     "execution_count": 27,
     "metadata": {},
     "output_type": "execute_result"
    }
   ],
   "source": [
    "df['Sex'].value_counts()"
   ]
  },
  {
   "cell_type": "code",
   "execution_count": 28,
   "id": "e1f83d25",
   "metadata": {},
   "outputs": [
    {
     "data": {
      "text/html": [
       "<div>\n",
       "<style scoped>\n",
       "    .dataframe tbody tr th:only-of-type {\n",
       "        vertical-align: middle;\n",
       "    }\n",
       "\n",
       "    .dataframe tbody tr th {\n",
       "        vertical-align: top;\n",
       "    }\n",
       "\n",
       "    .dataframe thead th {\n",
       "        text-align: right;\n",
       "    }\n",
       "</style>\n",
       "<table border=\"1\" class=\"dataframe\">\n",
       "  <thead>\n",
       "    <tr style=\"text-align: right;\">\n",
       "      <th></th>\n",
       "      <th>PassengerId</th>\n",
       "      <th>Survived</th>\n",
       "      <th>Pclass</th>\n",
       "      <th>Name</th>\n",
       "      <th>Sex</th>\n",
       "      <th>Age</th>\n",
       "      <th>SibSp</th>\n",
       "      <th>Parch</th>\n",
       "      <th>Ticket</th>\n",
       "      <th>Fare</th>\n",
       "      <th>Cabin</th>\n",
       "      <th>Embarked</th>\n",
       "      <th>ship</th>\n",
       "    </tr>\n",
       "  </thead>\n",
       "  <tbody>\n",
       "    <tr>\n",
       "      <th>0</th>\n",
       "      <td>1</td>\n",
       "      <td>0</td>\n",
       "      <td>Third</td>\n",
       "      <td>Braund, Mr. Owen Harris</td>\n",
       "      <td>male</td>\n",
       "      <td>22</td>\n",
       "      <td>1</td>\n",
       "      <td>0</td>\n",
       "      <td>A/5 21171</td>\n",
       "      <td>7,25</td>\n",
       "      <td>NaN</td>\n",
       "      <td>S</td>\n",
       "      <td>Titanic</td>\n",
       "    </tr>\n",
       "    <tr>\n",
       "      <th>1</th>\n",
       "      <td>2</td>\n",
       "      <td>1</td>\n",
       "      <td>First</td>\n",
       "      <td>Cumings, Mrs. John Bradley (Florence Briggs Th...</td>\n",
       "      <td>female</td>\n",
       "      <td>38</td>\n",
       "      <td>1</td>\n",
       "      <td>0</td>\n",
       "      <td>PC 17599</td>\n",
       "      <td>71,2833</td>\n",
       "      <td>C85</td>\n",
       "      <td>C</td>\n",
       "      <td>Titanic</td>\n",
       "    </tr>\n",
       "    <tr>\n",
       "      <th>2</th>\n",
       "      <td>3</td>\n",
       "      <td>1</td>\n",
       "      <td>Third</td>\n",
       "      <td>Heikkinen, Miss. Laina</td>\n",
       "      <td>female</td>\n",
       "      <td>26</td>\n",
       "      <td>0</td>\n",
       "      <td>0</td>\n",
       "      <td>STON/O2. 3101282</td>\n",
       "      <td>7,925</td>\n",
       "      <td>NaN</td>\n",
       "      <td>S</td>\n",
       "      <td>Titanic</td>\n",
       "    </tr>\n",
       "    <tr>\n",
       "      <th>3</th>\n",
       "      <td>4</td>\n",
       "      <td>1</td>\n",
       "      <td>First</td>\n",
       "      <td>Futrelle, Mrs. Jacques Heath (Lily May Peel)</td>\n",
       "      <td>female</td>\n",
       "      <td>35</td>\n",
       "      <td>1</td>\n",
       "      <td>0</td>\n",
       "      <td>113803</td>\n",
       "      <td>53,1</td>\n",
       "      <td>C123</td>\n",
       "      <td>S</td>\n",
       "      <td>Titanic</td>\n",
       "    </tr>\n",
       "    <tr>\n",
       "      <th>4</th>\n",
       "      <td>5</td>\n",
       "      <td>0</td>\n",
       "      <td>Third</td>\n",
       "      <td>Allen, Mr. William Henry</td>\n",
       "      <td>male</td>\n",
       "      <td>35</td>\n",
       "      <td>0</td>\n",
       "      <td>0</td>\n",
       "      <td>373450</td>\n",
       "      <td>8,05</td>\n",
       "      <td>NaN</td>\n",
       "      <td>S</td>\n",
       "      <td>Titanic</td>\n",
       "    </tr>\n",
       "  </tbody>\n",
       "</table>\n",
       "</div>"
      ],
      "text/plain": [
       "   PassengerId  Survived Pclass  \\\n",
       "0            1         0  Third   \n",
       "1            2         1  First   \n",
       "2            3         1  Third   \n",
       "3            4         1  First   \n",
       "4            5         0  Third   \n",
       "\n",
       "                                                Name     Sex Age  SibSp Parch  \\\n",
       "0                            Braund, Mr. Owen Harris    male  22      1     0   \n",
       "1  Cumings, Mrs. John Bradley (Florence Briggs Th...  female  38      1     0   \n",
       "2                             Heikkinen, Miss. Laina  female  26      0     0   \n",
       "3       Futrelle, Mrs. Jacques Heath (Lily May Peel)  female  35      1     0   \n",
       "4                           Allen, Mr. William Henry    male  35      0     0   \n",
       "\n",
       "             Ticket     Fare Cabin Embarked     ship  \n",
       "0         A/5 21171     7,25   NaN        S  Titanic  \n",
       "1          PC 17599  71,2833   C85        C  Titanic  \n",
       "2  STON/O2. 3101282    7,925   NaN        S  Titanic  \n",
       "3            113803     53,1  C123        S  Titanic  \n",
       "4            373450     8,05   NaN        S  Titanic  "
      ]
     },
     "execution_count": 28,
     "metadata": {},
     "output_type": "execute_result"
    }
   ],
   "source": [
    "df.head()"
   ]
  },
  {
   "cell_type": "markdown",
   "id": "ac5822a0",
   "metadata": {},
   "source": [
    "### Fixing Age columns\n"
   ]
  },
  {
   "cell_type": "code",
   "execution_count": 29,
   "id": "6ec77158",
   "metadata": {},
   "outputs": [
    {
     "data": {
      "text/plain": [
       "24      30\n",
       "22      27\n",
       "18      26\n",
       "19      25\n",
       "28      24\n",
       "        ..\n",
       "12       1\n",
       "70,5     1\n",
       "66       1\n",
       ".9       1\n",
       ".7       1\n",
       "Name: Age, Length: 94, dtype: int64"
      ]
     },
     "execution_count": 29,
     "metadata": {},
     "output_type": "execute_result"
    }
   ],
   "source": [
    "df['Age'].value_counts()"
   ]
  },
  {
   "cell_type": "markdown",
   "id": "1ed3be92",
   "metadata": {},
   "source": [
    "##### I am goint to change the value 70,5 and the others values with the point in front of them"
   ]
  },
  {
   "cell_type": "code",
   "execution_count": 30,
   "id": "b0e44a09",
   "metadata": {},
   "outputs": [],
   "source": [
    "df['Age'] = df['Age'].replace(\"70,5\",70)\n",
    "df['Age'] = df['Age'].replace(\".9\",9)\n",
    "df['Age'] = df['Age'].replace(\".7\",7)"
   ]
  },
  {
   "cell_type": "code",
   "execution_count": 31,
   "id": "cfe99453",
   "metadata": {},
   "outputs": [
    {
     "data": {
      "text/plain": [
       "24    30\n",
       "22    27\n",
       "18    26\n",
       "19    25\n",
       "28    24\n",
       "      ..\n",
       "12     1\n",
       "70     1\n",
       "66     1\n",
       "9      1\n",
       "7      1\n",
       "Name: Age, Length: 94, dtype: int64"
      ]
     },
     "execution_count": 31,
     "metadata": {},
     "output_type": "execute_result"
    }
   ],
   "source": [
    "df['Age'].value_counts()"
   ]
  },
  {
   "cell_type": "code",
   "execution_count": 32,
   "id": "39c4f1b5",
   "metadata": {},
   "outputs": [
    {
     "data": {
      "text/html": [
       "<div>\n",
       "<style scoped>\n",
       "    .dataframe tbody tr th:only-of-type {\n",
       "        vertical-align: middle;\n",
       "    }\n",
       "\n",
       "    .dataframe tbody tr th {\n",
       "        vertical-align: top;\n",
       "    }\n",
       "\n",
       "    .dataframe thead th {\n",
       "        text-align: right;\n",
       "    }\n",
       "</style>\n",
       "<table border=\"1\" class=\"dataframe\">\n",
       "  <thead>\n",
       "    <tr style=\"text-align: right;\">\n",
       "      <th></th>\n",
       "      <th>PassengerId</th>\n",
       "      <th>Survived</th>\n",
       "      <th>Pclass</th>\n",
       "      <th>Name</th>\n",
       "      <th>Sex</th>\n",
       "      <th>Age</th>\n",
       "      <th>SibSp</th>\n",
       "      <th>Parch</th>\n",
       "      <th>Ticket</th>\n",
       "      <th>Fare</th>\n",
       "      <th>Cabin</th>\n",
       "      <th>Embarked</th>\n",
       "      <th>ship</th>\n",
       "    </tr>\n",
       "  </thead>\n",
       "  <tbody>\n",
       "    <tr>\n",
       "      <th>0</th>\n",
       "      <td>1</td>\n",
       "      <td>0</td>\n",
       "      <td>Third</td>\n",
       "      <td>Braund, Mr. Owen Harris</td>\n",
       "      <td>male</td>\n",
       "      <td>22</td>\n",
       "      <td>1</td>\n",
       "      <td>0</td>\n",
       "      <td>A/5 21171</td>\n",
       "      <td>7,25</td>\n",
       "      <td>NaN</td>\n",
       "      <td>S</td>\n",
       "      <td>Titanic</td>\n",
       "    </tr>\n",
       "    <tr>\n",
       "      <th>1</th>\n",
       "      <td>2</td>\n",
       "      <td>1</td>\n",
       "      <td>First</td>\n",
       "      <td>Cumings, Mrs. John Bradley (Florence Briggs Th...</td>\n",
       "      <td>female</td>\n",
       "      <td>38</td>\n",
       "      <td>1</td>\n",
       "      <td>0</td>\n",
       "      <td>PC 17599</td>\n",
       "      <td>71,2833</td>\n",
       "      <td>C85</td>\n",
       "      <td>C</td>\n",
       "      <td>Titanic</td>\n",
       "    </tr>\n",
       "    <tr>\n",
       "      <th>2</th>\n",
       "      <td>3</td>\n",
       "      <td>1</td>\n",
       "      <td>Third</td>\n",
       "      <td>Heikkinen, Miss. Laina</td>\n",
       "      <td>female</td>\n",
       "      <td>26</td>\n",
       "      <td>0</td>\n",
       "      <td>0</td>\n",
       "      <td>STON/O2. 3101282</td>\n",
       "      <td>7,925</td>\n",
       "      <td>NaN</td>\n",
       "      <td>S</td>\n",
       "      <td>Titanic</td>\n",
       "    </tr>\n",
       "    <tr>\n",
       "      <th>3</th>\n",
       "      <td>4</td>\n",
       "      <td>1</td>\n",
       "      <td>First</td>\n",
       "      <td>Futrelle, Mrs. Jacques Heath (Lily May Peel)</td>\n",
       "      <td>female</td>\n",
       "      <td>35</td>\n",
       "      <td>1</td>\n",
       "      <td>0</td>\n",
       "      <td>113803</td>\n",
       "      <td>53,1</td>\n",
       "      <td>C123</td>\n",
       "      <td>S</td>\n",
       "      <td>Titanic</td>\n",
       "    </tr>\n",
       "    <tr>\n",
       "      <th>4</th>\n",
       "      <td>5</td>\n",
       "      <td>0</td>\n",
       "      <td>Third</td>\n",
       "      <td>Allen, Mr. William Henry</td>\n",
       "      <td>male</td>\n",
       "      <td>35</td>\n",
       "      <td>0</td>\n",
       "      <td>0</td>\n",
       "      <td>373450</td>\n",
       "      <td>8,05</td>\n",
       "      <td>NaN</td>\n",
       "      <td>S</td>\n",
       "      <td>Titanic</td>\n",
       "    </tr>\n",
       "  </tbody>\n",
       "</table>\n",
       "</div>"
      ],
      "text/plain": [
       "   PassengerId  Survived Pclass  \\\n",
       "0            1         0  Third   \n",
       "1            2         1  First   \n",
       "2            3         1  Third   \n",
       "3            4         1  First   \n",
       "4            5         0  Third   \n",
       "\n",
       "                                                Name     Sex Age  SibSp Parch  \\\n",
       "0                            Braund, Mr. Owen Harris    male  22      1     0   \n",
       "1  Cumings, Mrs. John Bradley (Florence Briggs Th...  female  38      1     0   \n",
       "2                             Heikkinen, Miss. Laina  female  26      0     0   \n",
       "3       Futrelle, Mrs. Jacques Heath (Lily May Peel)  female  35      1     0   \n",
       "4                           Allen, Mr. William Henry    male  35      0     0   \n",
       "\n",
       "             Ticket     Fare Cabin Embarked     ship  \n",
       "0         A/5 21171     7,25   NaN        S  Titanic  \n",
       "1          PC 17599  71,2833   C85        C  Titanic  \n",
       "2  STON/O2. 3101282    7,925   NaN        S  Titanic  \n",
       "3            113803     53,1  C123        S  Titanic  \n",
       "4            373450     8,05   NaN        S  Titanic  "
      ]
     },
     "execution_count": 32,
     "metadata": {},
     "output_type": "execute_result"
    }
   ],
   "source": [
    "df.head()"
   ]
  },
  {
   "cell_type": "markdown",
   "id": "fec81cd2",
   "metadata": {},
   "source": [
    "###  Fixing SibSp "
   ]
  },
  {
   "cell_type": "code",
   "execution_count": 33,
   "id": "06153e4f",
   "metadata": {
    "scrolled": true
   },
   "outputs": [
    {
     "data": {
      "text/plain": [
       "0     606\n",
       "1     213\n",
       "2      28\n",
       "4      18\n",
       "3      16\n",
       "8       7\n",
       "5       5\n",
       "70      1\n",
       "Name: SibSp, dtype: int64"
      ]
     },
     "execution_count": 33,
     "metadata": {},
     "output_type": "execute_result"
    }
   ],
   "source": [
    "df['SibSp'].value_counts()"
   ]
  },
  {
   "cell_type": "markdown",
   "id": "b5cc10dc",
   "metadata": {},
   "source": [
    "##### We cant have 70 siblings so i will change this for 7"
   ]
  },
  {
   "cell_type": "code",
   "execution_count": 42,
   "id": "8c4f08c8",
   "metadata": {},
   "outputs": [],
   "source": [
    "df['SibSp'] = df['SibSp'].replace(70,7)\n"
   ]
  },
  {
   "cell_type": "code",
   "execution_count": 43,
   "id": "3502bb96",
   "metadata": {},
   "outputs": [
    {
     "data": {
      "text/plain": [
       "0    606\n",
       "1    213\n",
       "2     28\n",
       "4     18\n",
       "3     16\n",
       "8      7\n",
       "5      5\n",
       "7      1\n",
       "Name: SibSp, dtype: int64"
      ]
     },
     "execution_count": 43,
     "metadata": {},
     "output_type": "execute_result"
    }
   ],
   "source": [
    "df['SibSp'].value_counts()"
   ]
  },
  {
   "cell_type": "markdown",
   "id": "71a6e373",
   "metadata": {},
   "source": [
    "###  Fixing Parch "
   ]
  },
  {
   "cell_type": "code",
   "execution_count": 34,
   "id": "750c8dbe",
   "metadata": {
    "scrolled": false
   },
   "outputs": [
    {
     "data": {
      "text/plain": [
       "0     679\n",
       "1     121\n",
       "2      80\n",
       "3       5\n",
       "5       4\n",
       "4       4\n",
       "no      1\n",
       "Name: Parch, dtype: int64"
      ]
     },
     "execution_count": 34,
     "metadata": {},
     "output_type": "execute_result"
    }
   ],
   "source": [
    "df['Parch'].value_counts()"
   ]
  },
  {
   "cell_type": "markdown",
   "id": "9234d28a",
   "metadata": {},
   "source": [
    "##### We can se there is one value with no we are going to change this to "
   ]
  },
  {
   "cell_type": "code",
   "execution_count": 48,
   "id": "e3a57afd",
   "metadata": {},
   "outputs": [],
   "source": [
    "df['Parch'] = df['Parch'].replace('no',0)\n"
   ]
  },
  {
   "cell_type": "code",
   "execution_count": 49,
   "id": "95386fb7",
   "metadata": {},
   "outputs": [
    {
     "data": {
      "text/plain": [
       "0    679\n",
       "1    121\n",
       "2     80\n",
       "3      5\n",
       "5      4\n",
       "4      4\n",
       "0      1\n",
       "Name: Parch, dtype: int64"
      ]
     },
     "execution_count": 49,
     "metadata": {},
     "output_type": "execute_result"
    }
   ],
   "source": [
    "df['Parch'].value_counts()"
   ]
  },
  {
   "cell_type": "markdown",
   "id": "0944a001",
   "metadata": {},
   "source": [
    "### Fixing Fare"
   ]
  },
  {
   "cell_type": "code",
   "execution_count": 36,
   "id": "163bace6",
   "metadata": {},
   "outputs": [
    {
     "data": {
      "text/plain": [
       "8,05       43\n",
       "13         42\n",
       "7,8958     38\n",
       "7,75       34\n",
       "26         31\n",
       "           ..\n",
       "15,9        1\n",
       "28,5        1\n",
       "6,2375      1\n",
       "14          1\n",
       "10,5167     1\n",
       "Name: Fare, Length: 251, dtype: int64"
      ]
     },
     "execution_count": 36,
     "metadata": {},
     "output_type": "execute_result"
    }
   ],
   "source": [
    "df['Fare'].value_counts()"
   ]
  },
  {
   "cell_type": "markdown",
   "id": "5e7670a0",
   "metadata": {},
   "source": [
    "##### First we have a problem with one value with is not a number, so we change this."
   ]
  },
  {
   "cell_type": "code",
   "execution_count": 53,
   "id": "1125cb9f",
   "metadata": {},
   "outputs": [],
   "source": [
    "df['Fare'] = df['Fare'].replace('07.maj',7.2)\n"
   ]
  },
  {
   "cell_type": "markdown",
   "id": "fbcfcb44",
   "metadata": {},
   "source": [
    "##### Then we have to change \",\" for \".\""
   ]
  },
  {
   "cell_type": "code",
   "execution_count": 54,
   "id": "dc1cad83",
   "metadata": {},
   "outputs": [],
   "source": [
    "df['Fare'] =df['Fare'].str.replace(\",\", \".\").astype(float)\n",
    "\n"
   ]
  },
  {
   "cell_type": "code",
   "execution_count": 55,
   "id": "f0b9028d",
   "metadata": {},
   "outputs": [
    {
     "data": {
      "text/plain": [
       "8.0500     43\n",
       "13.0000    42\n",
       "7.8958     38\n",
       "7.7500     34\n",
       "26.0000    31\n",
       "           ..\n",
       "8.8500      1\n",
       "12.8750     1\n",
       "71.2833     1\n",
       "12.2750     1\n",
       "10.5167     1\n",
       "Name: Fare, Length: 249, dtype: int64"
      ]
     },
     "execution_count": 55,
     "metadata": {},
     "output_type": "execute_result"
    }
   ],
   "source": [
    "df['Fare'].value_counts()"
   ]
  },
  {
   "cell_type": "markdown",
   "id": "8fd5f50d",
   "metadata": {},
   "source": [
    "##### And finally we can rounf the numbers."
   ]
  },
  {
   "cell_type": "code",
   "execution_count": 56,
   "id": "2726d24a",
   "metadata": {},
   "outputs": [],
   "source": [
    "df['Fare'] = np.round(df['Fare'], 2)\n"
   ]
  },
  {
   "cell_type": "code",
   "execution_count": 57,
   "id": "b9b6654e",
   "metadata": {},
   "outputs": [
    {
     "data": {
      "text/plain": [
       "8.05     43\n",
       "13.00    42\n",
       "7.90     38\n",
       "7.75     34\n",
       "26.00    31\n",
       "         ..\n",
       "61.38     1\n",
       "12.65     1\n",
       "12.00     1\n",
       "21.68     1\n",
       "10.52     1\n",
       "Name: Fare, Length: 237, dtype: int64"
      ]
     },
     "execution_count": 57,
     "metadata": {},
     "output_type": "execute_result"
    }
   ],
   "source": [
    "df['Fare'].value_counts()"
   ]
  },
  {
   "cell_type": "code",
   "execution_count": 58,
   "id": "d465c6d7",
   "metadata": {
    "scrolled": true
   },
   "outputs": [
    {
     "data": {
      "text/html": [
       "<div>\n",
       "<style scoped>\n",
       "    .dataframe tbody tr th:only-of-type {\n",
       "        vertical-align: middle;\n",
       "    }\n",
       "\n",
       "    .dataframe tbody tr th {\n",
       "        vertical-align: top;\n",
       "    }\n",
       "\n",
       "    .dataframe thead th {\n",
       "        text-align: right;\n",
       "    }\n",
       "</style>\n",
       "<table border=\"1\" class=\"dataframe\">\n",
       "  <thead>\n",
       "    <tr style=\"text-align: right;\">\n",
       "      <th></th>\n",
       "      <th>PassengerId</th>\n",
       "      <th>Survived</th>\n",
       "      <th>Pclass</th>\n",
       "      <th>Name</th>\n",
       "      <th>Sex</th>\n",
       "      <th>Age</th>\n",
       "      <th>SibSp</th>\n",
       "      <th>Parch</th>\n",
       "      <th>Ticket</th>\n",
       "      <th>Fare</th>\n",
       "      <th>Cabin</th>\n",
       "      <th>Embarked</th>\n",
       "      <th>ship</th>\n",
       "    </tr>\n",
       "  </thead>\n",
       "  <tbody>\n",
       "    <tr>\n",
       "      <th>0</th>\n",
       "      <td>1</td>\n",
       "      <td>0</td>\n",
       "      <td>Third</td>\n",
       "      <td>Braund, Mr. Owen Harris</td>\n",
       "      <td>male</td>\n",
       "      <td>22</td>\n",
       "      <td>1</td>\n",
       "      <td>0</td>\n",
       "      <td>A/5 21171</td>\n",
       "      <td>7.25</td>\n",
       "      <td>NaN</td>\n",
       "      <td>S</td>\n",
       "      <td>Titanic</td>\n",
       "    </tr>\n",
       "    <tr>\n",
       "      <th>1</th>\n",
       "      <td>2</td>\n",
       "      <td>1</td>\n",
       "      <td>First</td>\n",
       "      <td>Cumings, Mrs. John Bradley (Florence Briggs Th...</td>\n",
       "      <td>female</td>\n",
       "      <td>38</td>\n",
       "      <td>1</td>\n",
       "      <td>0</td>\n",
       "      <td>PC 17599</td>\n",
       "      <td>71.28</td>\n",
       "      <td>C85</td>\n",
       "      <td>C</td>\n",
       "      <td>Titanic</td>\n",
       "    </tr>\n",
       "    <tr>\n",
       "      <th>2</th>\n",
       "      <td>3</td>\n",
       "      <td>1</td>\n",
       "      <td>Third</td>\n",
       "      <td>Heikkinen, Miss. Laina</td>\n",
       "      <td>female</td>\n",
       "      <td>26</td>\n",
       "      <td>0</td>\n",
       "      <td>0</td>\n",
       "      <td>STON/O2. 3101282</td>\n",
       "      <td>7.92</td>\n",
       "      <td>NaN</td>\n",
       "      <td>S</td>\n",
       "      <td>Titanic</td>\n",
       "    </tr>\n",
       "    <tr>\n",
       "      <th>3</th>\n",
       "      <td>4</td>\n",
       "      <td>1</td>\n",
       "      <td>First</td>\n",
       "      <td>Futrelle, Mrs. Jacques Heath (Lily May Peel)</td>\n",
       "      <td>female</td>\n",
       "      <td>35</td>\n",
       "      <td>1</td>\n",
       "      <td>0</td>\n",
       "      <td>113803</td>\n",
       "      <td>53.10</td>\n",
       "      <td>C123</td>\n",
       "      <td>S</td>\n",
       "      <td>Titanic</td>\n",
       "    </tr>\n",
       "    <tr>\n",
       "      <th>4</th>\n",
       "      <td>5</td>\n",
       "      <td>0</td>\n",
       "      <td>Third</td>\n",
       "      <td>Allen, Mr. William Henry</td>\n",
       "      <td>male</td>\n",
       "      <td>35</td>\n",
       "      <td>0</td>\n",
       "      <td>0</td>\n",
       "      <td>373450</td>\n",
       "      <td>8.05</td>\n",
       "      <td>NaN</td>\n",
       "      <td>S</td>\n",
       "      <td>Titanic</td>\n",
       "    </tr>\n",
       "  </tbody>\n",
       "</table>\n",
       "</div>"
      ],
      "text/plain": [
       "   PassengerId  Survived Pclass  \\\n",
       "0            1         0  Third   \n",
       "1            2         1  First   \n",
       "2            3         1  Third   \n",
       "3            4         1  First   \n",
       "4            5         0  Third   \n",
       "\n",
       "                                                Name     Sex Age  SibSp Parch  \\\n",
       "0                            Braund, Mr. Owen Harris    male  22      1     0   \n",
       "1  Cumings, Mrs. John Bradley (Florence Briggs Th...  female  38      1     0   \n",
       "2                             Heikkinen, Miss. Laina  female  26      0     0   \n",
       "3       Futrelle, Mrs. Jacques Heath (Lily May Peel)  female  35      1     0   \n",
       "4                           Allen, Mr. William Henry    male  35      0     0   \n",
       "\n",
       "             Ticket   Fare Cabin Embarked     ship  \n",
       "0         A/5 21171   7.25   NaN        S  Titanic  \n",
       "1          PC 17599  71.28   C85        C  Titanic  \n",
       "2  STON/O2. 3101282   7.92   NaN        S  Titanic  \n",
       "3            113803  53.10  C123        S  Titanic  \n",
       "4            373450   8.05   NaN        S  Titanic  "
      ]
     },
     "execution_count": 58,
     "metadata": {},
     "output_type": "execute_result"
    }
   ],
   "source": [
    "df.head()"
   ]
  },
  {
   "cell_type": "markdown",
   "id": "a5a29376",
   "metadata": {},
   "source": [
    "### Fixing embarked"
   ]
  },
  {
   "cell_type": "code",
   "execution_count": 60,
   "id": "c5ec73d8",
   "metadata": {},
   "outputs": [
    {
     "data": {
      "text/plain": [
       "S     645\n",
       "C     167\n",
       "Q      76\n",
       "So      2\n",
       "Co      1\n",
       "Qe      1\n",
       "Name: Embarked, dtype: int64"
      ]
     },
     "execution_count": 60,
     "metadata": {},
     "output_type": "execute_result"
    }
   ],
   "source": [
    "df['Embarked'].value_counts()"
   ]
  },
  {
   "cell_type": "markdown",
   "id": "46d8ee58",
   "metadata": {},
   "source": [
    "##### We have 3 wrong ways to write the embarked door"
   ]
  },
  {
   "cell_type": "code",
   "execution_count": 64,
   "id": "528bff17",
   "metadata": {},
   "outputs": [],
   "source": [
    "df['Embarked'] = df['Embarked'].replace('So','S')\n",
    "df['Embarked'] = df['Embarked'].replace('Co','C')\n",
    "df['Embarked'] = df['Embarked'].replace('Qe','Q')"
   ]
  },
  {
   "cell_type": "code",
   "execution_count": 65,
   "id": "be04ae4b",
   "metadata": {},
   "outputs": [
    {
     "data": {
      "text/plain": [
       "S    647\n",
       "C    168\n",
       "Q     77\n",
       "Name: Embarked, dtype: int64"
      ]
     },
     "execution_count": 65,
     "metadata": {},
     "output_type": "execute_result"
    }
   ],
   "source": [
    "df['Embarked'].value_counts()"
   ]
  },
  {
   "cell_type": "markdown",
   "id": "9f97dec9",
   "metadata": {},
   "source": [
    "### Fixing ship"
   ]
  },
  {
   "cell_type": "code",
   "execution_count": 66,
   "id": "1b391f55",
   "metadata": {},
   "outputs": [
    {
     "data": {
      "text/plain": [
       "Titanic    892\n",
       "Titani       1\n",
       "Titnic       1\n",
       "Name: ship, dtype: int64"
      ]
     },
     "execution_count": 66,
     "metadata": {},
     "output_type": "execute_result"
    }
   ],
   "source": [
    "df['ship'].value_counts()"
   ]
  },
  {
   "cell_type": "markdown",
   "id": "93eb5bf8",
   "metadata": {},
   "source": [
    "##### We are goint to write Titanic in every options"
   ]
  },
  {
   "cell_type": "code",
   "execution_count": 67,
   "id": "847f12b5",
   "metadata": {},
   "outputs": [],
   "source": [
    "df['ship'] = df['ship'].replace('Titani','Titanic')\n",
    "df['ship'] = df['ship'].replace('Titnic','Titanic')"
   ]
  },
  {
   "cell_type": "code",
   "execution_count": 68,
   "id": "04edff20",
   "metadata": {},
   "outputs": [
    {
     "data": {
      "text/plain": [
       "Titanic    894\n",
       "Name: ship, dtype: int64"
      ]
     },
     "execution_count": 68,
     "metadata": {},
     "output_type": "execute_result"
    }
   ],
   "source": [
    "df['ship'].value_counts()"
   ]
  },
  {
   "cell_type": "markdown",
   "id": "dba68c22",
   "metadata": {},
   "source": [
    "###  Fixing Cabin"
   ]
  },
  {
   "cell_type": "code",
   "execution_count": 78,
   "id": "ce83fa17",
   "metadata": {
    "scrolled": false
   },
   "outputs": [
    {
     "data": {
      "text/plain": [
       "686"
      ]
     },
     "execution_count": 78,
     "metadata": {},
     "output_type": "execute_result"
    }
   ],
   "source": [
    "df['Cabin'].isnull().sum()"
   ]
  },
  {
   "cell_type": "markdown",
   "id": "c471ef9f",
   "metadata": {},
   "source": [
    "##### I decide to drop the column because there are a lot of NaN Values."
   ]
  },
  {
   "cell_type": "code",
   "execution_count": 79,
   "id": "87cdf02f",
   "metadata": {},
   "outputs": [],
   "source": [
    "df.drop(['Cabin'], axis=1, inplace=True)"
   ]
  },
  {
   "cell_type": "code",
   "execution_count": 80,
   "id": "1b6ba549",
   "metadata": {},
   "outputs": [
    {
     "data": {
      "text/html": [
       "<div>\n",
       "<style scoped>\n",
       "    .dataframe tbody tr th:only-of-type {\n",
       "        vertical-align: middle;\n",
       "    }\n",
       "\n",
       "    .dataframe tbody tr th {\n",
       "        vertical-align: top;\n",
       "    }\n",
       "\n",
       "    .dataframe thead th {\n",
       "        text-align: right;\n",
       "    }\n",
       "</style>\n",
       "<table border=\"1\" class=\"dataframe\">\n",
       "  <thead>\n",
       "    <tr style=\"text-align: right;\">\n",
       "      <th></th>\n",
       "      <th>PassengerId</th>\n",
       "      <th>Survived</th>\n",
       "      <th>Pclass</th>\n",
       "      <th>Name</th>\n",
       "      <th>Sex</th>\n",
       "      <th>Age</th>\n",
       "      <th>SibSp</th>\n",
       "      <th>Parch</th>\n",
       "      <th>Ticket</th>\n",
       "      <th>Fare</th>\n",
       "      <th>Embarked</th>\n",
       "      <th>ship</th>\n",
       "    </tr>\n",
       "  </thead>\n",
       "  <tbody>\n",
       "    <tr>\n",
       "      <th>0</th>\n",
       "      <td>1</td>\n",
       "      <td>0</td>\n",
       "      <td>Third</td>\n",
       "      <td>Braund, Mr. Owen Harris</td>\n",
       "      <td>male</td>\n",
       "      <td>22</td>\n",
       "      <td>1</td>\n",
       "      <td>0</td>\n",
       "      <td>A/5 21171</td>\n",
       "      <td>7.25</td>\n",
       "      <td>S</td>\n",
       "      <td>Titanic</td>\n",
       "    </tr>\n",
       "    <tr>\n",
       "      <th>1</th>\n",
       "      <td>2</td>\n",
       "      <td>1</td>\n",
       "      <td>First</td>\n",
       "      <td>Cumings, Mrs. John Bradley (Florence Briggs Th...</td>\n",
       "      <td>female</td>\n",
       "      <td>38</td>\n",
       "      <td>1</td>\n",
       "      <td>0</td>\n",
       "      <td>PC 17599</td>\n",
       "      <td>71.28</td>\n",
       "      <td>C</td>\n",
       "      <td>Titanic</td>\n",
       "    </tr>\n",
       "    <tr>\n",
       "      <th>2</th>\n",
       "      <td>3</td>\n",
       "      <td>1</td>\n",
       "      <td>Third</td>\n",
       "      <td>Heikkinen, Miss. Laina</td>\n",
       "      <td>female</td>\n",
       "      <td>26</td>\n",
       "      <td>0</td>\n",
       "      <td>0</td>\n",
       "      <td>STON/O2. 3101282</td>\n",
       "      <td>7.92</td>\n",
       "      <td>S</td>\n",
       "      <td>Titanic</td>\n",
       "    </tr>\n",
       "    <tr>\n",
       "      <th>3</th>\n",
       "      <td>4</td>\n",
       "      <td>1</td>\n",
       "      <td>First</td>\n",
       "      <td>Futrelle, Mrs. Jacques Heath (Lily May Peel)</td>\n",
       "      <td>female</td>\n",
       "      <td>35</td>\n",
       "      <td>1</td>\n",
       "      <td>0</td>\n",
       "      <td>113803</td>\n",
       "      <td>53.10</td>\n",
       "      <td>S</td>\n",
       "      <td>Titanic</td>\n",
       "    </tr>\n",
       "    <tr>\n",
       "      <th>4</th>\n",
       "      <td>5</td>\n",
       "      <td>0</td>\n",
       "      <td>Third</td>\n",
       "      <td>Allen, Mr. William Henry</td>\n",
       "      <td>male</td>\n",
       "      <td>35</td>\n",
       "      <td>0</td>\n",
       "      <td>0</td>\n",
       "      <td>373450</td>\n",
       "      <td>8.05</td>\n",
       "      <td>S</td>\n",
       "      <td>Titanic</td>\n",
       "    </tr>\n",
       "  </tbody>\n",
       "</table>\n",
       "</div>"
      ],
      "text/plain": [
       "   PassengerId  Survived Pclass  \\\n",
       "0            1         0  Third   \n",
       "1            2         1  First   \n",
       "2            3         1  Third   \n",
       "3            4         1  First   \n",
       "4            5         0  Third   \n",
       "\n",
       "                                                Name     Sex Age  SibSp Parch  \\\n",
       "0                            Braund, Mr. Owen Harris    male  22      1     0   \n",
       "1  Cumings, Mrs. John Bradley (Florence Briggs Th...  female  38      1     0   \n",
       "2                             Heikkinen, Miss. Laina  female  26      0     0   \n",
       "3       Futrelle, Mrs. Jacques Heath (Lily May Peel)  female  35      1     0   \n",
       "4                           Allen, Mr. William Henry    male  35      0     0   \n",
       "\n",
       "             Ticket   Fare Embarked     ship  \n",
       "0         A/5 21171   7.25        S  Titanic  \n",
       "1          PC 17599  71.28        C  Titanic  \n",
       "2  STON/O2. 3101282   7.92        S  Titanic  \n",
       "3            113803  53.10        S  Titanic  \n",
       "4            373450   8.05        S  Titanic  "
      ]
     },
     "execution_count": 80,
     "metadata": {},
     "output_type": "execute_result"
    }
   ],
   "source": [
    "df.head()"
   ]
  },
  {
   "cell_type": "markdown",
   "id": "6b712711",
   "metadata": {},
   "source": [
    "### Fixing Ticket\n"
   ]
  },
  {
   "cell_type": "code",
   "execution_count": 81,
   "id": "861f9271",
   "metadata": {},
   "outputs": [
    {
     "data": {
      "text/plain": [
       "1601        7\n",
       "CA. 2343    7\n",
       "3101295     6\n",
       "347082      6\n",
       "347088      6\n",
       "           ..\n",
       "226593      1\n",
       "9234        1\n",
       "19988       1\n",
       "2693        1\n",
       "370376      1\n",
       "Name: Ticket, Length: 680, dtype: int64"
      ]
     },
     "execution_count": 81,
     "metadata": {},
     "output_type": "execute_result"
    }
   ],
   "source": [
    "df['Ticket'].value_counts()"
   ]
  },
  {
   "cell_type": "markdown",
   "id": "02433ade",
   "metadata": {},
   "source": [
    "##### There is one NaN value so i will change this for no ticket information."
   ]
  },
  {
   "cell_type": "code",
   "execution_count": 82,
   "id": "ea01bdba",
   "metadata": {},
   "outputs": [
    {
     "data": {
      "text/plain": [
       "1"
      ]
     },
     "execution_count": 82,
     "metadata": {},
     "output_type": "execute_result"
    }
   ],
   "source": [
    "df['Ticket'].isnull().sum()\n"
   ]
  },
  {
   "cell_type": "code",
   "execution_count": 87,
   "id": "096dd558",
   "metadata": {},
   "outputs": [],
   "source": [
    "df['Ticket']=df['Ticket'].fillna('No Ticket Info')\n"
   ]
  },
  {
   "cell_type": "code",
   "execution_count": 88,
   "id": "0da6f685",
   "metadata": {},
   "outputs": [
    {
     "data": {
      "text/plain": [
       "0"
      ]
     },
     "execution_count": 88,
     "metadata": {},
     "output_type": "execute_result"
    }
   ],
   "source": [
    "df['Ticket'].isnull().sum()\n"
   ]
  },
  {
   "cell_type": "markdown",
   "id": "08574df4",
   "metadata": {},
   "source": [
    "### Names Fix"
   ]
  },
  {
   "cell_type": "code",
   "execution_count": 89,
   "id": "77f0e820",
   "metadata": {},
   "outputs": [
    {
     "data": {
      "text/plain": [
       "Sandstrom, Miss. Marguerite Ru&5$$      4\n",
       "Hoyt, Mr. Frederick Maxfield            2\n",
       "Vestrom, Miss. Hulda Amanda Adolfina    2\n",
       "Braund, Mr. Owen Harris                 1\n",
       "Slabenoff, Mr. Petco                    1\n",
       "                                       ..\n",
       "Keane, Miss. Nora A                     1\n",
       "Williams, Mr. Howard Hugh \"Harry\"       1\n",
       "Allison, Master. Hudson Trevor          1\n",
       "Fleming, Miss. Margaret                 1\n",
       "Mr. Frederick Maxfield Hoyt             1\n",
       "Name: Name, Length: 889, dtype: int64"
      ]
     },
     "execution_count": 89,
     "metadata": {},
     "output_type": "execute_result"
    }
   ],
   "source": [
    "df['Name'].value_counts()"
   ]
  },
  {
   "cell_type": "code",
   "execution_count": 90,
   "id": "582c3cfa",
   "metadata": {},
   "outputs": [],
   "source": [
    "df['FirstName'] = df['Name'].str.split(',').str[1]\n"
   ]
  },
  {
   "cell_type": "code",
   "execution_count": 91,
   "id": "e2ddda53",
   "metadata": {},
   "outputs": [
    {
     "data": {
      "text/html": [
       "<div>\n",
       "<style scoped>\n",
       "    .dataframe tbody tr th:only-of-type {\n",
       "        vertical-align: middle;\n",
       "    }\n",
       "\n",
       "    .dataframe tbody tr th {\n",
       "        vertical-align: top;\n",
       "    }\n",
       "\n",
       "    .dataframe thead th {\n",
       "        text-align: right;\n",
       "    }\n",
       "</style>\n",
       "<table border=\"1\" class=\"dataframe\">\n",
       "  <thead>\n",
       "    <tr style=\"text-align: right;\">\n",
       "      <th></th>\n",
       "      <th>PassengerId</th>\n",
       "      <th>Survived</th>\n",
       "      <th>Pclass</th>\n",
       "      <th>Name</th>\n",
       "      <th>Sex</th>\n",
       "      <th>Age</th>\n",
       "      <th>SibSp</th>\n",
       "      <th>Parch</th>\n",
       "      <th>Ticket</th>\n",
       "      <th>Fare</th>\n",
       "      <th>Embarked</th>\n",
       "      <th>ship</th>\n",
       "      <th>FirstName</th>\n",
       "    </tr>\n",
       "  </thead>\n",
       "  <tbody>\n",
       "    <tr>\n",
       "      <th>0</th>\n",
       "      <td>1</td>\n",
       "      <td>0</td>\n",
       "      <td>Third</td>\n",
       "      <td>Braund, Mr. Owen Harris</td>\n",
       "      <td>male</td>\n",
       "      <td>22</td>\n",
       "      <td>1</td>\n",
       "      <td>0</td>\n",
       "      <td>A/5 21171</td>\n",
       "      <td>7.25</td>\n",
       "      <td>S</td>\n",
       "      <td>Titanic</td>\n",
       "      <td>Mr. Owen Harris</td>\n",
       "    </tr>\n",
       "    <tr>\n",
       "      <th>1</th>\n",
       "      <td>2</td>\n",
       "      <td>1</td>\n",
       "      <td>First</td>\n",
       "      <td>Cumings, Mrs. John Bradley (Florence Briggs Th...</td>\n",
       "      <td>female</td>\n",
       "      <td>38</td>\n",
       "      <td>1</td>\n",
       "      <td>0</td>\n",
       "      <td>PC 17599</td>\n",
       "      <td>71.28</td>\n",
       "      <td>C</td>\n",
       "      <td>Titanic</td>\n",
       "      <td>Mrs. John Bradley (Florence Briggs Thayer)</td>\n",
       "    </tr>\n",
       "    <tr>\n",
       "      <th>2</th>\n",
       "      <td>3</td>\n",
       "      <td>1</td>\n",
       "      <td>Third</td>\n",
       "      <td>Heikkinen, Miss. Laina</td>\n",
       "      <td>female</td>\n",
       "      <td>26</td>\n",
       "      <td>0</td>\n",
       "      <td>0</td>\n",
       "      <td>STON/O2. 3101282</td>\n",
       "      <td>7.92</td>\n",
       "      <td>S</td>\n",
       "      <td>Titanic</td>\n",
       "      <td>Miss. Laina</td>\n",
       "    </tr>\n",
       "    <tr>\n",
       "      <th>3</th>\n",
       "      <td>4</td>\n",
       "      <td>1</td>\n",
       "      <td>First</td>\n",
       "      <td>Futrelle, Mrs. Jacques Heath (Lily May Peel)</td>\n",
       "      <td>female</td>\n",
       "      <td>35</td>\n",
       "      <td>1</td>\n",
       "      <td>0</td>\n",
       "      <td>113803</td>\n",
       "      <td>53.10</td>\n",
       "      <td>S</td>\n",
       "      <td>Titanic</td>\n",
       "      <td>Mrs. Jacques Heath (Lily May Peel)</td>\n",
       "    </tr>\n",
       "    <tr>\n",
       "      <th>4</th>\n",
       "      <td>5</td>\n",
       "      <td>0</td>\n",
       "      <td>Third</td>\n",
       "      <td>Allen, Mr. William Henry</td>\n",
       "      <td>male</td>\n",
       "      <td>35</td>\n",
       "      <td>0</td>\n",
       "      <td>0</td>\n",
       "      <td>373450</td>\n",
       "      <td>8.05</td>\n",
       "      <td>S</td>\n",
       "      <td>Titanic</td>\n",
       "      <td>Mr. William Henry</td>\n",
       "    </tr>\n",
       "  </tbody>\n",
       "</table>\n",
       "</div>"
      ],
      "text/plain": [
       "   PassengerId  Survived Pclass  \\\n",
       "0            1         0  Third   \n",
       "1            2         1  First   \n",
       "2            3         1  Third   \n",
       "3            4         1  First   \n",
       "4            5         0  Third   \n",
       "\n",
       "                                                Name     Sex Age  SibSp Parch  \\\n",
       "0                            Braund, Mr. Owen Harris    male  22      1     0   \n",
       "1  Cumings, Mrs. John Bradley (Florence Briggs Th...  female  38      1     0   \n",
       "2                             Heikkinen, Miss. Laina  female  26      0     0   \n",
       "3       Futrelle, Mrs. Jacques Heath (Lily May Peel)  female  35      1     0   \n",
       "4                           Allen, Mr. William Henry    male  35      0     0   \n",
       "\n",
       "             Ticket   Fare Embarked     ship  \\\n",
       "0         A/5 21171   7.25        S  Titanic   \n",
       "1          PC 17599  71.28        C  Titanic   \n",
       "2  STON/O2. 3101282   7.92        S  Titanic   \n",
       "3            113803  53.10        S  Titanic   \n",
       "4            373450   8.05        S  Titanic   \n",
       "\n",
       "                                     FirstName  \n",
       "0                              Mr. Owen Harris  \n",
       "1   Mrs. John Bradley (Florence Briggs Thayer)  \n",
       "2                                  Miss. Laina  \n",
       "3           Mrs. Jacques Heath (Lily May Peel)  \n",
       "4                            Mr. William Henry  "
      ]
     },
     "execution_count": 91,
     "metadata": {},
     "output_type": "execute_result"
    }
   ],
   "source": [
    "df.head()"
   ]
  },
  {
   "cell_type": "markdown",
   "id": "42bbf4a1",
   "metadata": {},
   "source": [
    "##### As we can see the name is not okay, so we are going to create 2 differents columns, one for the firstname and the other for the lastname"
   ]
  },
  {
   "cell_type": "code",
   "execution_count": 92,
   "id": "99532217",
   "metadata": {},
   "outputs": [],
   "source": [
    "df['LastName'] = df['Name'].str.split(',').str[0]\n"
   ]
  },
  {
   "cell_type": "code",
   "execution_count": 93,
   "id": "731804ae",
   "metadata": {},
   "outputs": [
    {
     "data": {
      "text/html": [
       "<div>\n",
       "<style scoped>\n",
       "    .dataframe tbody tr th:only-of-type {\n",
       "        vertical-align: middle;\n",
       "    }\n",
       "\n",
       "    .dataframe tbody tr th {\n",
       "        vertical-align: top;\n",
       "    }\n",
       "\n",
       "    .dataframe thead th {\n",
       "        text-align: right;\n",
       "    }\n",
       "</style>\n",
       "<table border=\"1\" class=\"dataframe\">\n",
       "  <thead>\n",
       "    <tr style=\"text-align: right;\">\n",
       "      <th></th>\n",
       "      <th>PassengerId</th>\n",
       "      <th>Survived</th>\n",
       "      <th>Pclass</th>\n",
       "      <th>Name</th>\n",
       "      <th>Sex</th>\n",
       "      <th>Age</th>\n",
       "      <th>SibSp</th>\n",
       "      <th>Parch</th>\n",
       "      <th>Ticket</th>\n",
       "      <th>Fare</th>\n",
       "      <th>Embarked</th>\n",
       "      <th>ship</th>\n",
       "      <th>FirstName</th>\n",
       "      <th>LastName</th>\n",
       "    </tr>\n",
       "  </thead>\n",
       "  <tbody>\n",
       "    <tr>\n",
       "      <th>0</th>\n",
       "      <td>1</td>\n",
       "      <td>0</td>\n",
       "      <td>Third</td>\n",
       "      <td>Braund, Mr. Owen Harris</td>\n",
       "      <td>male</td>\n",
       "      <td>22</td>\n",
       "      <td>1</td>\n",
       "      <td>0</td>\n",
       "      <td>A/5 21171</td>\n",
       "      <td>7.25</td>\n",
       "      <td>S</td>\n",
       "      <td>Titanic</td>\n",
       "      <td>Mr. Owen Harris</td>\n",
       "      <td>Braund</td>\n",
       "    </tr>\n",
       "    <tr>\n",
       "      <th>1</th>\n",
       "      <td>2</td>\n",
       "      <td>1</td>\n",
       "      <td>First</td>\n",
       "      <td>Cumings, Mrs. John Bradley (Florence Briggs Th...</td>\n",
       "      <td>female</td>\n",
       "      <td>38</td>\n",
       "      <td>1</td>\n",
       "      <td>0</td>\n",
       "      <td>PC 17599</td>\n",
       "      <td>71.28</td>\n",
       "      <td>C</td>\n",
       "      <td>Titanic</td>\n",
       "      <td>Mrs. John Bradley (Florence Briggs Thayer)</td>\n",
       "      <td>Cumings</td>\n",
       "    </tr>\n",
       "    <tr>\n",
       "      <th>2</th>\n",
       "      <td>3</td>\n",
       "      <td>1</td>\n",
       "      <td>Third</td>\n",
       "      <td>Heikkinen, Miss. Laina</td>\n",
       "      <td>female</td>\n",
       "      <td>26</td>\n",
       "      <td>0</td>\n",
       "      <td>0</td>\n",
       "      <td>STON/O2. 3101282</td>\n",
       "      <td>7.92</td>\n",
       "      <td>S</td>\n",
       "      <td>Titanic</td>\n",
       "      <td>Miss. Laina</td>\n",
       "      <td>Heikkinen</td>\n",
       "    </tr>\n",
       "    <tr>\n",
       "      <th>3</th>\n",
       "      <td>4</td>\n",
       "      <td>1</td>\n",
       "      <td>First</td>\n",
       "      <td>Futrelle, Mrs. Jacques Heath (Lily May Peel)</td>\n",
       "      <td>female</td>\n",
       "      <td>35</td>\n",
       "      <td>1</td>\n",
       "      <td>0</td>\n",
       "      <td>113803</td>\n",
       "      <td>53.10</td>\n",
       "      <td>S</td>\n",
       "      <td>Titanic</td>\n",
       "      <td>Mrs. Jacques Heath (Lily May Peel)</td>\n",
       "      <td>Futrelle</td>\n",
       "    </tr>\n",
       "    <tr>\n",
       "      <th>4</th>\n",
       "      <td>5</td>\n",
       "      <td>0</td>\n",
       "      <td>Third</td>\n",
       "      <td>Allen, Mr. William Henry</td>\n",
       "      <td>male</td>\n",
       "      <td>35</td>\n",
       "      <td>0</td>\n",
       "      <td>0</td>\n",
       "      <td>373450</td>\n",
       "      <td>8.05</td>\n",
       "      <td>S</td>\n",
       "      <td>Titanic</td>\n",
       "      <td>Mr. William Henry</td>\n",
       "      <td>Allen</td>\n",
       "    </tr>\n",
       "  </tbody>\n",
       "</table>\n",
       "</div>"
      ],
      "text/plain": [
       "   PassengerId  Survived Pclass  \\\n",
       "0            1         0  Third   \n",
       "1            2         1  First   \n",
       "2            3         1  Third   \n",
       "3            4         1  First   \n",
       "4            5         0  Third   \n",
       "\n",
       "                                                Name     Sex Age  SibSp Parch  \\\n",
       "0                            Braund, Mr. Owen Harris    male  22      1     0   \n",
       "1  Cumings, Mrs. John Bradley (Florence Briggs Th...  female  38      1     0   \n",
       "2                             Heikkinen, Miss. Laina  female  26      0     0   \n",
       "3       Futrelle, Mrs. Jacques Heath (Lily May Peel)  female  35      1     0   \n",
       "4                           Allen, Mr. William Henry    male  35      0     0   \n",
       "\n",
       "             Ticket   Fare Embarked     ship  \\\n",
       "0         A/5 21171   7.25        S  Titanic   \n",
       "1          PC 17599  71.28        C  Titanic   \n",
       "2  STON/O2. 3101282   7.92        S  Titanic   \n",
       "3            113803  53.10        S  Titanic   \n",
       "4            373450   8.05        S  Titanic   \n",
       "\n",
       "                                     FirstName   LastName  \n",
       "0                              Mr. Owen Harris     Braund  \n",
       "1   Mrs. John Bradley (Florence Briggs Thayer)    Cumings  \n",
       "2                                  Miss. Laina  Heikkinen  \n",
       "3           Mrs. Jacques Heath (Lily May Peel)   Futrelle  \n",
       "4                            Mr. William Henry      Allen  "
      ]
     },
     "execution_count": 93,
     "metadata": {},
     "output_type": "execute_result"
    }
   ],
   "source": [
    "df.head()"
   ]
  },
  {
   "cell_type": "markdown",
   "id": "19d92c19",
   "metadata": {},
   "source": [
    "##### And now we drop the Name column"
   ]
  },
  {
   "cell_type": "code",
   "execution_count": 94,
   "id": "34b496cd",
   "metadata": {},
   "outputs": [],
   "source": [
    "df.drop(['Name'], axis=1, inplace=True)"
   ]
  },
  {
   "cell_type": "code",
   "execution_count": 95,
   "id": "3aaf82ea",
   "metadata": {},
   "outputs": [
    {
     "data": {
      "text/html": [
       "<div>\n",
       "<style scoped>\n",
       "    .dataframe tbody tr th:only-of-type {\n",
       "        vertical-align: middle;\n",
       "    }\n",
       "\n",
       "    .dataframe tbody tr th {\n",
       "        vertical-align: top;\n",
       "    }\n",
       "\n",
       "    .dataframe thead th {\n",
       "        text-align: right;\n",
       "    }\n",
       "</style>\n",
       "<table border=\"1\" class=\"dataframe\">\n",
       "  <thead>\n",
       "    <tr style=\"text-align: right;\">\n",
       "      <th></th>\n",
       "      <th>PassengerId</th>\n",
       "      <th>Survived</th>\n",
       "      <th>Pclass</th>\n",
       "      <th>Sex</th>\n",
       "      <th>Age</th>\n",
       "      <th>SibSp</th>\n",
       "      <th>Parch</th>\n",
       "      <th>Ticket</th>\n",
       "      <th>Fare</th>\n",
       "      <th>Embarked</th>\n",
       "      <th>ship</th>\n",
       "      <th>FirstName</th>\n",
       "      <th>LastName</th>\n",
       "    </tr>\n",
       "  </thead>\n",
       "  <tbody>\n",
       "    <tr>\n",
       "      <th>0</th>\n",
       "      <td>1</td>\n",
       "      <td>0</td>\n",
       "      <td>Third</td>\n",
       "      <td>male</td>\n",
       "      <td>22</td>\n",
       "      <td>1</td>\n",
       "      <td>0</td>\n",
       "      <td>A/5 21171</td>\n",
       "      <td>7.25</td>\n",
       "      <td>S</td>\n",
       "      <td>Titanic</td>\n",
       "      <td>Mr. Owen Harris</td>\n",
       "      <td>Braund</td>\n",
       "    </tr>\n",
       "    <tr>\n",
       "      <th>1</th>\n",
       "      <td>2</td>\n",
       "      <td>1</td>\n",
       "      <td>First</td>\n",
       "      <td>female</td>\n",
       "      <td>38</td>\n",
       "      <td>1</td>\n",
       "      <td>0</td>\n",
       "      <td>PC 17599</td>\n",
       "      <td>71.28</td>\n",
       "      <td>C</td>\n",
       "      <td>Titanic</td>\n",
       "      <td>Mrs. John Bradley (Florence Briggs Thayer)</td>\n",
       "      <td>Cumings</td>\n",
       "    </tr>\n",
       "    <tr>\n",
       "      <th>2</th>\n",
       "      <td>3</td>\n",
       "      <td>1</td>\n",
       "      <td>Third</td>\n",
       "      <td>female</td>\n",
       "      <td>26</td>\n",
       "      <td>0</td>\n",
       "      <td>0</td>\n",
       "      <td>STON/O2. 3101282</td>\n",
       "      <td>7.92</td>\n",
       "      <td>S</td>\n",
       "      <td>Titanic</td>\n",
       "      <td>Miss. Laina</td>\n",
       "      <td>Heikkinen</td>\n",
       "    </tr>\n",
       "    <tr>\n",
       "      <th>3</th>\n",
       "      <td>4</td>\n",
       "      <td>1</td>\n",
       "      <td>First</td>\n",
       "      <td>female</td>\n",
       "      <td>35</td>\n",
       "      <td>1</td>\n",
       "      <td>0</td>\n",
       "      <td>113803</td>\n",
       "      <td>53.10</td>\n",
       "      <td>S</td>\n",
       "      <td>Titanic</td>\n",
       "      <td>Mrs. Jacques Heath (Lily May Peel)</td>\n",
       "      <td>Futrelle</td>\n",
       "    </tr>\n",
       "    <tr>\n",
       "      <th>4</th>\n",
       "      <td>5</td>\n",
       "      <td>0</td>\n",
       "      <td>Third</td>\n",
       "      <td>male</td>\n",
       "      <td>35</td>\n",
       "      <td>0</td>\n",
       "      <td>0</td>\n",
       "      <td>373450</td>\n",
       "      <td>8.05</td>\n",
       "      <td>S</td>\n",
       "      <td>Titanic</td>\n",
       "      <td>Mr. William Henry</td>\n",
       "      <td>Allen</td>\n",
       "    </tr>\n",
       "  </tbody>\n",
       "</table>\n",
       "</div>"
      ],
      "text/plain": [
       "   PassengerId  Survived Pclass     Sex Age  SibSp Parch            Ticket  \\\n",
       "0            1         0  Third    male  22      1     0         A/5 21171   \n",
       "1            2         1  First  female  38      1     0          PC 17599   \n",
       "2            3         1  Third  female  26      0     0  STON/O2. 3101282   \n",
       "3            4         1  First  female  35      1     0            113803   \n",
       "4            5         0  Third    male  35      0     0            373450   \n",
       "\n",
       "    Fare Embarked     ship                                    FirstName  \\\n",
       "0   7.25        S  Titanic                              Mr. Owen Harris   \n",
       "1  71.28        C  Titanic   Mrs. John Bradley (Florence Briggs Thayer)   \n",
       "2   7.92        S  Titanic                                  Miss. Laina   \n",
       "3  53.10        S  Titanic           Mrs. Jacques Heath (Lily May Peel)   \n",
       "4   8.05        S  Titanic                            Mr. William Henry   \n",
       "\n",
       "    LastName  \n",
       "0     Braund  \n",
       "1    Cumings  \n",
       "2  Heikkinen  \n",
       "3   Futrelle  \n",
       "4      Allen  "
      ]
     },
     "execution_count": 95,
     "metadata": {},
     "output_type": "execute_result"
    }
   ],
   "source": [
    "df.head()"
   ]
  },
  {
   "cell_type": "code",
   "execution_count": 96,
   "id": "56ca00d4",
   "metadata": {},
   "outputs": [
    {
     "data": {
      "text/plain": [
       " Mr. John                                                        7\n",
       " Mr. James                                                       7\n",
       " Miss. Mary                                                      6\n",
       " Mr. William                                                     6\n",
       " Miss. Bertha                                                    4\n",
       "                                                                ..\n",
       " Mrs. Victor de Satode (Maria Josefa Perez de Soto y Vallejo)    1\n",
       " Miss. Laura Mabel                                               1\n",
       " Miss. Margaret Bechstein                                        1\n",
       " Miss. Emily Borie                                               1\n",
       " Mr. Karl Howell                                                 1\n",
       "Name: FirstName, Length: 799, dtype: int64"
      ]
     },
     "execution_count": 96,
     "metadata": {},
     "output_type": "execute_result"
    }
   ],
   "source": [
    "df['FirstName'].value_counts()"
   ]
  },
  {
   "cell_type": "markdown",
   "id": "0af8bf24",
   "metadata": {},
   "source": [
    "##### Now i am goint do delete the title because i think it is not important for us."
   ]
  },
  {
   "cell_type": "code",
   "execution_count": 98,
   "id": "83369771",
   "metadata": {},
   "outputs": [],
   "source": [
    "df['FirstName'] = df['FirstName'].str.split('.').str[1]\n"
   ]
  },
  {
   "cell_type": "code",
   "execution_count": 99,
   "id": "4c94f79b",
   "metadata": {},
   "outputs": [
    {
     "data": {
      "text/plain": [
       " John                                                       9\n",
       " James                                                      7\n",
       " Mary                                                       6\n",
       " William                                                    6\n",
       " Marguerite Ru&5$$                                          4\n",
       "                                                           ..\n",
       " Margaret                                                   1\n",
       " Victor de Satode (Maria Josefa Perez de Soto y Vallejo)    1\n",
       " Laura Mabel                                                1\n",
       " Margaret Bechstein                                         1\n",
       " Karl Howell                                                1\n",
       "Name: FirstName, Length: 795, dtype: int64"
      ]
     },
     "execution_count": 99,
     "metadata": {},
     "output_type": "execute_result"
    }
   ],
   "source": [
    "df['FirstName'].value_counts()"
   ]
  },
  {
   "cell_type": "code",
   "execution_count": 101,
   "id": "ae28f06e",
   "metadata": {},
   "outputs": [
    {
     "data": {
      "text/html": [
       "<div>\n",
       "<style scoped>\n",
       "    .dataframe tbody tr th:only-of-type {\n",
       "        vertical-align: middle;\n",
       "    }\n",
       "\n",
       "    .dataframe tbody tr th {\n",
       "        vertical-align: top;\n",
       "    }\n",
       "\n",
       "    .dataframe thead th {\n",
       "        text-align: right;\n",
       "    }\n",
       "</style>\n",
       "<table border=\"1\" class=\"dataframe\">\n",
       "  <thead>\n",
       "    <tr style=\"text-align: right;\">\n",
       "      <th></th>\n",
       "      <th>PassengerId</th>\n",
       "      <th>Survived</th>\n",
       "      <th>Pclass</th>\n",
       "      <th>Sex</th>\n",
       "      <th>Age</th>\n",
       "      <th>SibSp</th>\n",
       "      <th>Parch</th>\n",
       "      <th>Ticket</th>\n",
       "      <th>Fare</th>\n",
       "      <th>Embarked</th>\n",
       "      <th>ship</th>\n",
       "      <th>FirstName</th>\n",
       "      <th>LastName</th>\n",
       "    </tr>\n",
       "  </thead>\n",
       "  <tbody>\n",
       "    <tr>\n",
       "      <th>0</th>\n",
       "      <td>1</td>\n",
       "      <td>0</td>\n",
       "      <td>Third</td>\n",
       "      <td>male</td>\n",
       "      <td>22</td>\n",
       "      <td>1</td>\n",
       "      <td>0</td>\n",
       "      <td>A/5 21171</td>\n",
       "      <td>7.25</td>\n",
       "      <td>S</td>\n",
       "      <td>Titanic</td>\n",
       "      <td>Owen Harris</td>\n",
       "      <td>Braund</td>\n",
       "    </tr>\n",
       "    <tr>\n",
       "      <th>1</th>\n",
       "      <td>2</td>\n",
       "      <td>1</td>\n",
       "      <td>First</td>\n",
       "      <td>female</td>\n",
       "      <td>38</td>\n",
       "      <td>1</td>\n",
       "      <td>0</td>\n",
       "      <td>PC 17599</td>\n",
       "      <td>71.28</td>\n",
       "      <td>C</td>\n",
       "      <td>Titanic</td>\n",
       "      <td>John Bradley (Florence Briggs Thayer)</td>\n",
       "      <td>Cumings</td>\n",
       "    </tr>\n",
       "    <tr>\n",
       "      <th>2</th>\n",
       "      <td>3</td>\n",
       "      <td>1</td>\n",
       "      <td>Third</td>\n",
       "      <td>female</td>\n",
       "      <td>26</td>\n",
       "      <td>0</td>\n",
       "      <td>0</td>\n",
       "      <td>STON/O2. 3101282</td>\n",
       "      <td>7.92</td>\n",
       "      <td>S</td>\n",
       "      <td>Titanic</td>\n",
       "      <td>Laina</td>\n",
       "      <td>Heikkinen</td>\n",
       "    </tr>\n",
       "    <tr>\n",
       "      <th>3</th>\n",
       "      <td>4</td>\n",
       "      <td>1</td>\n",
       "      <td>First</td>\n",
       "      <td>female</td>\n",
       "      <td>35</td>\n",
       "      <td>1</td>\n",
       "      <td>0</td>\n",
       "      <td>113803</td>\n",
       "      <td>53.10</td>\n",
       "      <td>S</td>\n",
       "      <td>Titanic</td>\n",
       "      <td>Jacques Heath (Lily May Peel)</td>\n",
       "      <td>Futrelle</td>\n",
       "    </tr>\n",
       "    <tr>\n",
       "      <th>4</th>\n",
       "      <td>5</td>\n",
       "      <td>0</td>\n",
       "      <td>Third</td>\n",
       "      <td>male</td>\n",
       "      <td>35</td>\n",
       "      <td>0</td>\n",
       "      <td>0</td>\n",
       "      <td>373450</td>\n",
       "      <td>8.05</td>\n",
       "      <td>S</td>\n",
       "      <td>Titanic</td>\n",
       "      <td>William Henry</td>\n",
       "      <td>Allen</td>\n",
       "    </tr>\n",
       "  </tbody>\n",
       "</table>\n",
       "</div>"
      ],
      "text/plain": [
       "   PassengerId  Survived Pclass     Sex Age  SibSp Parch            Ticket  \\\n",
       "0            1         0  Third    male  22      1     0         A/5 21171   \n",
       "1            2         1  First  female  38      1     0          PC 17599   \n",
       "2            3         1  Third  female  26      0     0  STON/O2. 3101282   \n",
       "3            4         1  First  female  35      1     0            113803   \n",
       "4            5         0  Third    male  35      0     0            373450   \n",
       "\n",
       "    Fare Embarked     ship                               FirstName   LastName  \n",
       "0   7.25        S  Titanic                             Owen Harris     Braund  \n",
       "1  71.28        C  Titanic   John Bradley (Florence Briggs Thayer)    Cumings  \n",
       "2   7.92        S  Titanic                                   Laina  Heikkinen  \n",
       "3  53.10        S  Titanic           Jacques Heath (Lily May Peel)   Futrelle  \n",
       "4   8.05        S  Titanic                           William Henry      Allen  "
      ]
     },
     "execution_count": 101,
     "metadata": {},
     "output_type": "execute_result"
    }
   ],
   "source": [
    "df.head()"
   ]
  },
  {
   "cell_type": "markdown",
   "id": "e73e82f8",
   "metadata": {},
   "source": [
    "##### I am goign to order all the information"
   ]
  },
  {
   "cell_type": "code",
   "execution_count": 103,
   "id": "7e614122",
   "metadata": {},
   "outputs": [],
   "source": [
    "df = df.loc[:,['PassengerId','Survived','Pclass','LastName','FirstName','Sex','Age','SibSp','Parch','Ticket','Fare','Embarked','ship']]\n"
   ]
  },
  {
   "cell_type": "code",
   "execution_count": 104,
   "id": "0b405df3",
   "metadata": {},
   "outputs": [
    {
     "data": {
      "text/html": [
       "<div>\n",
       "<style scoped>\n",
       "    .dataframe tbody tr th:only-of-type {\n",
       "        vertical-align: middle;\n",
       "    }\n",
       "\n",
       "    .dataframe tbody tr th {\n",
       "        vertical-align: top;\n",
       "    }\n",
       "\n",
       "    .dataframe thead th {\n",
       "        text-align: right;\n",
       "    }\n",
       "</style>\n",
       "<table border=\"1\" class=\"dataframe\">\n",
       "  <thead>\n",
       "    <tr style=\"text-align: right;\">\n",
       "      <th></th>\n",
       "      <th>PassengerId</th>\n",
       "      <th>Survived</th>\n",
       "      <th>Pclass</th>\n",
       "      <th>LastName</th>\n",
       "      <th>FirstName</th>\n",
       "      <th>Sex</th>\n",
       "      <th>Age</th>\n",
       "      <th>SibSp</th>\n",
       "      <th>Parch</th>\n",
       "      <th>Ticket</th>\n",
       "      <th>Fare</th>\n",
       "      <th>Embarked</th>\n",
       "      <th>ship</th>\n",
       "    </tr>\n",
       "  </thead>\n",
       "  <tbody>\n",
       "    <tr>\n",
       "      <th>0</th>\n",
       "      <td>1</td>\n",
       "      <td>0</td>\n",
       "      <td>Third</td>\n",
       "      <td>Braund</td>\n",
       "      <td>Owen Harris</td>\n",
       "      <td>male</td>\n",
       "      <td>22</td>\n",
       "      <td>1</td>\n",
       "      <td>0</td>\n",
       "      <td>A/5 21171</td>\n",
       "      <td>7.25</td>\n",
       "      <td>S</td>\n",
       "      <td>Titanic</td>\n",
       "    </tr>\n",
       "    <tr>\n",
       "      <th>1</th>\n",
       "      <td>2</td>\n",
       "      <td>1</td>\n",
       "      <td>First</td>\n",
       "      <td>Cumings</td>\n",
       "      <td>John Bradley (Florence Briggs Thayer)</td>\n",
       "      <td>female</td>\n",
       "      <td>38</td>\n",
       "      <td>1</td>\n",
       "      <td>0</td>\n",
       "      <td>PC 17599</td>\n",
       "      <td>71.28</td>\n",
       "      <td>C</td>\n",
       "      <td>Titanic</td>\n",
       "    </tr>\n",
       "    <tr>\n",
       "      <th>2</th>\n",
       "      <td>3</td>\n",
       "      <td>1</td>\n",
       "      <td>Third</td>\n",
       "      <td>Heikkinen</td>\n",
       "      <td>Laina</td>\n",
       "      <td>female</td>\n",
       "      <td>26</td>\n",
       "      <td>0</td>\n",
       "      <td>0</td>\n",
       "      <td>STON/O2. 3101282</td>\n",
       "      <td>7.92</td>\n",
       "      <td>S</td>\n",
       "      <td>Titanic</td>\n",
       "    </tr>\n",
       "    <tr>\n",
       "      <th>3</th>\n",
       "      <td>4</td>\n",
       "      <td>1</td>\n",
       "      <td>First</td>\n",
       "      <td>Futrelle</td>\n",
       "      <td>Jacques Heath (Lily May Peel)</td>\n",
       "      <td>female</td>\n",
       "      <td>35</td>\n",
       "      <td>1</td>\n",
       "      <td>0</td>\n",
       "      <td>113803</td>\n",
       "      <td>53.10</td>\n",
       "      <td>S</td>\n",
       "      <td>Titanic</td>\n",
       "    </tr>\n",
       "    <tr>\n",
       "      <th>4</th>\n",
       "      <td>5</td>\n",
       "      <td>0</td>\n",
       "      <td>Third</td>\n",
       "      <td>Allen</td>\n",
       "      <td>William Henry</td>\n",
       "      <td>male</td>\n",
       "      <td>35</td>\n",
       "      <td>0</td>\n",
       "      <td>0</td>\n",
       "      <td>373450</td>\n",
       "      <td>8.05</td>\n",
       "      <td>S</td>\n",
       "      <td>Titanic</td>\n",
       "    </tr>\n",
       "  </tbody>\n",
       "</table>\n",
       "</div>"
      ],
      "text/plain": [
       "   PassengerId  Survived Pclass   LastName  \\\n",
       "0            1         0  Third     Braund   \n",
       "1            2         1  First    Cumings   \n",
       "2            3         1  Third  Heikkinen   \n",
       "3            4         1  First   Futrelle   \n",
       "4            5         0  Third      Allen   \n",
       "\n",
       "                                FirstName     Sex Age  SibSp Parch  \\\n",
       "0                             Owen Harris    male  22      1     0   \n",
       "1   John Bradley (Florence Briggs Thayer)  female  38      1     0   \n",
       "2                                   Laina  female  26      0     0   \n",
       "3           Jacques Heath (Lily May Peel)  female  35      1     0   \n",
       "4                           William Henry    male  35      0     0   \n",
       "\n",
       "             Ticket   Fare Embarked     ship  \n",
       "0         A/5 21171   7.25        S  Titanic  \n",
       "1          PC 17599  71.28        C  Titanic  \n",
       "2  STON/O2. 3101282   7.92        S  Titanic  \n",
       "3            113803  53.10        S  Titanic  \n",
       "4            373450   8.05        S  Titanic  "
      ]
     },
     "execution_count": 104,
     "metadata": {},
     "output_type": "execute_result"
    }
   ],
   "source": [
    "df.head()"
   ]
  },
  {
   "cell_type": "code",
   "execution_count": 105,
   "id": "58ac7072",
   "metadata": {},
   "outputs": [
    {
     "data": {
      "text/plain": [
       "0"
      ]
     },
     "execution_count": 105,
     "metadata": {},
     "output_type": "execute_result"
    }
   ],
   "source": [
    "df['LastName'].isnull().sum()\n"
   ]
  },
  {
   "cell_type": "markdown",
   "id": "02984dc7",
   "metadata": {},
   "source": [
    "##### Now we can see that in the firstname column we have one NaN value, so we are goint to change this for No value"
   ]
  },
  {
   "cell_type": "code",
   "execution_count": 107,
   "id": "eb14e7d4",
   "metadata": {},
   "outputs": [
    {
     "data": {
      "text/plain": [
       "1"
      ]
     },
     "execution_count": 107,
     "metadata": {},
     "output_type": "execute_result"
    }
   ],
   "source": [
    "df['FirstName'].isnull().sum()\n"
   ]
  },
  {
   "cell_type": "code",
   "execution_count": 108,
   "id": "f5e53c68",
   "metadata": {},
   "outputs": [],
   "source": [
    "df['FirstName']=df['FirstName'].fillna('No Value')\n"
   ]
  },
  {
   "cell_type": "code",
   "execution_count": 109,
   "id": "2eee86f0",
   "metadata": {},
   "outputs": [
    {
     "data": {
      "text/plain": [
       "0"
      ]
     },
     "execution_count": 109,
     "metadata": {},
     "output_type": "execute_result"
    }
   ],
   "source": [
    "df['FirstName'].isnull().sum()\n"
   ]
  },
  {
   "cell_type": "code",
   "execution_count": 110,
   "id": "6d79ed5c",
   "metadata": {},
   "outputs": [
    {
     "data": {
      "text/html": [
       "<div>\n",
       "<style scoped>\n",
       "    .dataframe tbody tr th:only-of-type {\n",
       "        vertical-align: middle;\n",
       "    }\n",
       "\n",
       "    .dataframe tbody tr th {\n",
       "        vertical-align: top;\n",
       "    }\n",
       "\n",
       "    .dataframe thead th {\n",
       "        text-align: right;\n",
       "    }\n",
       "</style>\n",
       "<table border=\"1\" class=\"dataframe\">\n",
       "  <thead>\n",
       "    <tr style=\"text-align: right;\">\n",
       "      <th></th>\n",
       "      <th>PassengerId</th>\n",
       "      <th>Survived</th>\n",
       "      <th>Pclass</th>\n",
       "      <th>LastName</th>\n",
       "      <th>FirstName</th>\n",
       "      <th>Sex</th>\n",
       "      <th>Age</th>\n",
       "      <th>SibSp</th>\n",
       "      <th>Parch</th>\n",
       "      <th>Ticket</th>\n",
       "      <th>Fare</th>\n",
       "      <th>Embarked</th>\n",
       "      <th>ship</th>\n",
       "    </tr>\n",
       "  </thead>\n",
       "  <tbody>\n",
       "    <tr>\n",
       "      <th>0</th>\n",
       "      <td>1</td>\n",
       "      <td>0</td>\n",
       "      <td>Third</td>\n",
       "      <td>Braund</td>\n",
       "      <td>Owen Harris</td>\n",
       "      <td>male</td>\n",
       "      <td>22</td>\n",
       "      <td>1</td>\n",
       "      <td>0</td>\n",
       "      <td>A/5 21171</td>\n",
       "      <td>7.25</td>\n",
       "      <td>S</td>\n",
       "      <td>Titanic</td>\n",
       "    </tr>\n",
       "    <tr>\n",
       "      <th>1</th>\n",
       "      <td>2</td>\n",
       "      <td>1</td>\n",
       "      <td>First</td>\n",
       "      <td>Cumings</td>\n",
       "      <td>John Bradley (Florence Briggs Thayer)</td>\n",
       "      <td>female</td>\n",
       "      <td>38</td>\n",
       "      <td>1</td>\n",
       "      <td>0</td>\n",
       "      <td>PC 17599</td>\n",
       "      <td>71.28</td>\n",
       "      <td>C</td>\n",
       "      <td>Titanic</td>\n",
       "    </tr>\n",
       "    <tr>\n",
       "      <th>2</th>\n",
       "      <td>3</td>\n",
       "      <td>1</td>\n",
       "      <td>Third</td>\n",
       "      <td>Heikkinen</td>\n",
       "      <td>Laina</td>\n",
       "      <td>female</td>\n",
       "      <td>26</td>\n",
       "      <td>0</td>\n",
       "      <td>0</td>\n",
       "      <td>STON/O2. 3101282</td>\n",
       "      <td>7.92</td>\n",
       "      <td>S</td>\n",
       "      <td>Titanic</td>\n",
       "    </tr>\n",
       "    <tr>\n",
       "      <th>3</th>\n",
       "      <td>4</td>\n",
       "      <td>1</td>\n",
       "      <td>First</td>\n",
       "      <td>Futrelle</td>\n",
       "      <td>Jacques Heath (Lily May Peel)</td>\n",
       "      <td>female</td>\n",
       "      <td>35</td>\n",
       "      <td>1</td>\n",
       "      <td>0</td>\n",
       "      <td>113803</td>\n",
       "      <td>53.10</td>\n",
       "      <td>S</td>\n",
       "      <td>Titanic</td>\n",
       "    </tr>\n",
       "    <tr>\n",
       "      <th>4</th>\n",
       "      <td>5</td>\n",
       "      <td>0</td>\n",
       "      <td>Third</td>\n",
       "      <td>Allen</td>\n",
       "      <td>William Henry</td>\n",
       "      <td>male</td>\n",
       "      <td>35</td>\n",
       "      <td>0</td>\n",
       "      <td>0</td>\n",
       "      <td>373450</td>\n",
       "      <td>8.05</td>\n",
       "      <td>S</td>\n",
       "      <td>Titanic</td>\n",
       "    </tr>\n",
       "  </tbody>\n",
       "</table>\n",
       "</div>"
      ],
      "text/plain": [
       "   PassengerId  Survived Pclass   LastName  \\\n",
       "0            1         0  Third     Braund   \n",
       "1            2         1  First    Cumings   \n",
       "2            3         1  Third  Heikkinen   \n",
       "3            4         1  First   Futrelle   \n",
       "4            5         0  Third      Allen   \n",
       "\n",
       "                                FirstName     Sex Age  SibSp Parch  \\\n",
       "0                             Owen Harris    male  22      1     0   \n",
       "1   John Bradley (Florence Briggs Thayer)  female  38      1     0   \n",
       "2                                   Laina  female  26      0     0   \n",
       "3           Jacques Heath (Lily May Peel)  female  35      1     0   \n",
       "4                           William Henry    male  35      0     0   \n",
       "\n",
       "             Ticket   Fare Embarked     ship  \n",
       "0         A/5 21171   7.25        S  Titanic  \n",
       "1          PC 17599  71.28        C  Titanic  \n",
       "2  STON/O2. 3101282   7.92        S  Titanic  \n",
       "3            113803  53.10        S  Titanic  \n",
       "4            373450   8.05        S  Titanic  "
      ]
     },
     "execution_count": 110,
     "metadata": {},
     "output_type": "execute_result"
    }
   ],
   "source": [
    "df.head()"
   ]
  },
  {
   "cell_type": "markdown",
   "id": "84d16ee1",
   "metadata": {},
   "source": [
    "##### Finishing i am goint to see if we have some wrong value in our names. "
   ]
  },
  {
   "cell_type": "code",
   "execution_count": 112,
   "id": "fb3cc7e7",
   "metadata": {},
   "outputs": [
    {
     "data": {
      "text/plain": [
       "array(['Braund', 'Cumings', 'Heikkinen', 'Futrelle', 'Allen', 'Moran',\n",
       "       'McCarthy', 'Palsson', 'Johnson', 'Nasser', 'Sandstrom', 'Bonnell',\n",
       "       'Saundercock', 'Vestrom', 'Hewlett', 'Rice', 'Williams',\n",
       "       'Vander Planke', 'Masselmani', 'Fynney', 'Beesley', 'McGowan',\n",
       "       'Asplund', 'Emir', 'Fortune', \"O'Dwyer\", 'Todoroff', 'Uruchurtu',\n",
       "       'Spencer', 'Glynn', 'Wheadon', 'Meyer', 'Holverson', 'Mamee',\n",
       "       'Cann', 'Nicola-Yarred', 'Ahlin', 'Turpin', 'Kraeff', 'Laroche',\n",
       "       'Devaney', 'Rogers', 'Lennon', \"O'Driscoll\", 'Samaan',\n",
       "       'Arnold-Franchi', 'Panula', 'Nosworthy', 'Harper', 'Faunthorpe',\n",
       "       'Ostby', 'Woolner', 'Rugg', 'Novel', 'West', 'Goodwin',\n",
       "       'Sirayanian', 'Icard', 'Harris', 'Skoog', 'Stewart', 'Moubarek',\n",
       "       'Nye', 'Crease', 'Andersson', 'Kink', 'Jenkin', 'Hood',\n",
       "       'Chronopoulos', 'Bing', 'Moen', 'Staneff', 'Moutal', 'Caldwell',\n",
       "       'Dowdell', 'Waelens', 'Sheerlinck', 'McDermott', 'Carrau', 'Ilett',\n",
       "       'Backstrom', 'Ford', 'Slocovski', 'Celotti', 'Christmann',\n",
       "       'Andreasson', 'Chaffee', 'Dean', 'Coxon', 'Shorney', 'Goldschmidt',\n",
       "       'Greenfield', 'Doling', 'Kantor', 'Petranec', 'Petroff', 'White',\n",
       "       'Johansson', 'Gustafsson', 'Mionoff', 'Salkjelsvik', 'Moss',\n",
       "       'Rekic', 'Porter', 'Zabour', 'Barton', 'Jussila', 'Attalah',\n",
       "       'Pekoniemi', 'Connors', 'Baxter', 'Hickman', 'Moore', 'Webber',\n",
       "       'McMahon', 'Madsen', 'Peter', 'Ekstrom', 'Drazenoic', 'Coelho',\n",
       "       'Robins', 'Weisz', 'Sobey', 'Richard', 'Newsom', 'Osen', 'Giglio',\n",
       "       'Boulos', 'Nysten', 'Hakkarainen', 'Burke', 'Andrew', 'Nicholls',\n",
       "       'Navratil', 'Byles', 'Bateman', 'Pears', 'Meo', 'van Billiard',\n",
       "       'Olsen', 'Gilnagh', 'Corn', 'Smiljanic', 'Sage', 'Cribb', 'Watt',\n",
       "       'Bengtsson', 'Calic', 'Goldsmith', 'Chibnall', 'Baumann', 'Ling',\n",
       "       'Van der hoef', 'Sivola', 'Smith', 'Klasen', 'Lefebre', 'Isham',\n",
       "       'Hale', 'Leonard', 'Pernot', 'Becker', 'Kink-Heilmann', 'Rood',\n",
       "       \"O'Brien\", 'Romaine', 'Bourke', 'Turcin', 'Pinsky', 'Carbines',\n",
       "       'Andersen-Jensen', 'Brown', 'Lurette', 'Mernagh', 'Madigan',\n",
       "       'Yrois', 'Vande Walle', 'Johanson', 'Youseff', 'Cohen', 'Strom',\n",
       "       'Albimona', 'Carr', 'Blank', 'Ali', 'Cameron', 'Perkin', 'Givard',\n",
       "       'Kiernan', 'Newell', 'Honkanen', 'Jacobsohn', 'Bazzani',\n",
       "       'Sunderland', 'Bracken', 'Green', 'Nenkoff', 'Hoyt', 'Berglund',\n",
       "       'Mellors', 'Lovell', 'Fahlstrom', 'Larsson', 'Sjostedt', 'Leyson',\n",
       "       'Harknett', 'Hold', 'Collyer', 'Pengelly', 'Hunt', 'Murphy',\n",
       "       'Coleridge', 'Maenpaa', 'Minahan', 'Lindahl', 'Hamalainen',\n",
       "       'Beckwith', 'Carter', 'Reed', 'Stead', 'Lobb', 'Rosblom', 'Touma',\n",
       "       'Thorne', 'Cherry', 'Ward', 'Parrish', 'Taussig', 'Harrison',\n",
       "       'Henry', 'Reeves', 'Persson', 'Graham', 'Bissette', 'Cairns',\n",
       "       'Tornquist', 'Mellinger', 'Natsch', 'Healy', 'Andrews', 'Lindblom',\n",
       "       'Parkes', 'Abbott', 'Duane', 'Olsson', 'de Pelsmaeker', 'Dorking',\n",
       "       'Stankovic', 'de Mulder', 'Naidenoff', 'Hosono', 'Connolly',\n",
       "       'Barber', 'Bishop', 'Levy', 'Haas', 'Mineff', 'Lewy', 'Hanna',\n",
       "       'Allison', 'Saalfeld', 'Kelly', 'McCoy', 'Keane', 'Fleming',\n",
       "       'Penasco y Castellana', 'Abelson', 'Francatelli', 'Hays',\n",
       "       'Ryerson', 'Lahtinen', 'Hendekovic', 'Hart', 'Nilsson', 'Moraweck',\n",
       "       'Wick', 'Spedden', 'Dennis', 'Danoff', 'Slayter', 'Young',\n",
       "       'Nysveen', 'Ball', 'Hippach', 'Partner', 'Frauenthal', 'Denkoff',\n",
       "       'Burns', 'Dahl', 'Blackwell', 'Collander', 'Sedgwick', 'Fox',\n",
       "       'Davison', 'Coutts', 'Dimic', 'Odahl', 'Williams-Lambert', 'Elias',\n",
       "       'Yousif', 'Vanden Steen', 'Bowerman', 'Funk', 'McGovern',\n",
       "       'Mockler', 'del Carlo', 'Barbara', 'Asim', 'Adahl', 'Warren',\n",
       "       'Moussa', 'Jermyn', 'Aubart', 'Harder', 'Wiklund', 'Beavan',\n",
       "       'Ringhini', 'Landergren', 'Widener', 'Betros', 'Bidois', 'Nakid',\n",
       "       'Tikkanen', 'Plotcharsky', 'Davies', 'Buss', 'Sadlier', 'Lehmann',\n",
       "       'Jansson', 'McKane', 'Pain', 'Trout', 'Niskanen', 'Adams',\n",
       "       'Oreskovic', 'Gale', 'Widegren', 'Richards', 'Birkeland',\n",
       "       'Sdycoff', 'Cunningham', 'Sundman', 'Meek', 'Drew', 'Silven',\n",
       "       'Matthews', 'Van Impe', 'Gheorgheff', 'Charters', 'Zimmerman',\n",
       "       'Danbom', 'Wiseman', 'Clarke', 'Phillips', 'Flynn', 'Pickard',\n",
       "       'Bjornstrom-Steffansson', 'Thorneycroft', 'Louch', 'Kallio',\n",
       "       'Silvey', 'Kvillner', 'Hampe', 'Petterson', 'Reynaldo',\n",
       "       'Johannesen-Bratthammer', 'Dodge', 'Seward', 'Baclini', 'Peuchen',\n",
       "       'Hagland', 'Foreman', 'Goldenberg', 'Peduzzi', 'Jalsevac',\n",
       "       'Millet', 'Kenyon', 'Toomey', \"O'Connor\", 'Anderson', 'Morley',\n",
       "       'Gee', 'Milling', 'Maisner', 'Goncalves', 'Campbell', 'Smart',\n",
       "       'Scanlan', 'Keefe', 'Cacic', 'Jerwan', 'Strandberg', 'Clifford',\n",
       "       'Renouf', 'Karlsson', 'Hirvonen', 'Frost', 'Rouse', 'Turkula',\n",
       "       'Kent', 'Somerton', 'Windelov', 'Molson', 'Artagaveytia',\n",
       "       'Stanley', 'Yousseff', 'Eustis', 'Shellard', 'Svensson', 'Canavan',\n",
       "       \"O'Sullivan\", 'Laitinen', 'Maioni', 'Quick', 'Bradley', 'Lang',\n",
       "       'Daly', 'McGough', 'Rothschild', 'Coleff', 'Walker', 'Lemore',\n",
       "       'Ryan', 'Angle', 'Pavlovic', 'Vovk', 'Lahoud', 'Kassem', 'Farrell',\n",
       "       'Ridsdale', 'Farthing', 'Salonen', 'Hocking', 'Toufik', 'Butt',\n",
       "       'LeRoy', 'Risien', 'Frolicher', 'Crosby', 'Beane', 'Douglas',\n",
       "       'Nicholson', 'Padro y Manent', 'Thayer', 'Sharp', 'Leeni', 'Ohman',\n",
       "       'Wright', 'Duff Gordon', 'Robbins', 'de Messemaeker', 'Morrow',\n",
       "       'Sivic', 'Norman', 'Simmons', 'Meanwell', 'Stoytcheff', 'Doharr',\n",
       "       'Jonsson', 'Appleton', 'Rush', 'Patchett', 'Garside', 'Caram',\n",
       "       'Christy', 'Downton', 'Ross', 'Paulner', 'Jarvis',\n",
       "       'Frolicher-Stehli', 'Gilinski', 'Murdlin', 'Rintamaki',\n",
       "       'Stephenson', 'Elsbury', 'Chapman', 'Leitch', 'Slabenoff',\n",
       "       'Harrington', 'Torber', 'Homer', 'Lindell', 'Karaic', 'Daniel',\n",
       "       'Shutes', 'Jardin', 'Horgan', 'Brocklebank', 'Herman', 'Gavey',\n",
       "       'Yasbeck', 'Kimball', 'Hansen', 'Bowen', 'Sutton', 'Kirkland',\n",
       "       'Longley', 'Bostandyeff', \"O'Connell\", 'Barkworth', 'Lundahl',\n",
       "       'Stahelin-Maeglin', 'Parr', 'Davis', 'Leinonen', 'Jensen',\n",
       "       'Sagesser', 'Foo', 'Cor', 'Simonius-Blumer', 'Willey', 'Mitkoff',\n",
       "       'Kalvik', \"O'Leary\", 'Hegarty', 'Radeff', 'Eitemiller', 'Badt',\n",
       "       'Colley', 'Lindqvist', 'Butler', 'Rommetvedt', 'Cook', 'Taylor',\n",
       "       'Davidson', 'Mitchell', 'Wilhelms', 'Watson', 'Edvardsson',\n",
       "       'Sawyer', 'Turja', 'Hoytt', 'Cardeza', 'Peters', 'Hassab',\n",
       "       'Olsvigen', 'Dakic', 'Fischer', 'Madill', 'Dick', 'Karun', 'Lam',\n",
       "       'Saad', 'Weir', 'Mullens', 'Humblen', 'Astor', 'Silverthorne',\n",
       "       'Gallagher', 'Calderhead', 'Cleaver', 'Mayne', 'Klaber',\n",
       "       'Greenberg', 'Soholt', 'Endres', 'Troutt', 'McEvoy', 'Gillespie',\n",
       "       'Hodges', 'Chambers', 'Mannion', 'Bryhl', 'Ilmakangas', 'Hassan',\n",
       "       'Knight', 'Berriman', 'Troupiansky', 'Lesurer', 'Ivanoff',\n",
       "       'Nankoff', 'Hawksford', 'Cavendish', 'McNamee', 'Stranden',\n",
       "       'Sinkkonen', 'Marvin', 'Connaghton', 'Wells', 'Moor',\n",
       "       'Vande Velde', 'Jonkoff', 'Carlsson', 'Bailey', 'Theobald',\n",
       "       'Rothes', 'Garfirth', 'Nirva', 'Barah', 'Eklund', 'Hogeboom',\n",
       "       'Brewe', 'Mangan', 'Gronnestad', 'Lievens', 'Mack', 'Myhrman',\n",
       "       'Tobin', 'Emanuel', 'Kilgannon', 'Robert', 'Ayoub', 'Long',\n",
       "       'Johnston', 'Harmer', 'Sjoblom', 'Guggenheim', 'Gaskell',\n",
       "       'Dantcheff', 'Otter', 'Leader', 'Osman', 'Ibrahim Shawah',\n",
       "       'Ponesell', 'Thomas', 'Hedman', 'Pettersson', 'Alexander',\n",
       "       'Lester', 'Slemen', 'Tomlin', 'Fry', 'Heininen', 'Mallet', 'Holm',\n",
       "       'Lulic', 'Reuchlin', 'McCormack', 'Stone', 'Augustsson', 'Allum',\n",
       "       'Compton', 'Pasic', 'Sirota', 'Chip', 'Marechal', 'Alhomaki',\n",
       "       'Mudd', 'Serepeca', 'Lemberopolous', 'Culumovic', 'Abbing',\n",
       "       'Markoff', 'Lines', 'Aks', 'Razi', 'Giles', 'Swift', 'Gill',\n",
       "       'Bystrom', 'Duran y More', 'Roebling', 'van Melkebeke', 'Balkic',\n",
       "       'Vander Cruyssen', 'Najib', 'Laleff', 'Potter', 'Shelley',\n",
       "       'Markun', 'Dahlberg', 'Banfield', 'Sutehall', 'Montvila', 'Behr',\n",
       "       'Dooley', 'Mr. Frederick Maxfield Hoyt'], dtype=object)"
      ]
     },
     "execution_count": 112,
     "metadata": {},
     "output_type": "execute_result"
    }
   ],
   "source": [
    "df['LastName'].unique()"
   ]
  },
  {
   "cell_type": "code",
   "execution_count": 113,
   "id": "ddf7753e",
   "metadata": {},
   "outputs": [
    {
     "data": {
      "text/plain": [
       "array([' Owen Harris', ' John Bradley (Florence Briggs Thayer)', ' Laina',\n",
       "       ' Jacques Heath (Lily May Peel)', ' William Henry', ' James',\n",
       "       ' Timothy J', ' Gosta Leonard',\n",
       "       ' Oscar W (Elisabeth Vilhelmina Berg)', ' Nicholas (Adele Achem)',\n",
       "       ' Marguerite Ru&5$$', ' Elizabeth', ' Hulda Amanda Adolfina',\n",
       "       ' (Mary D Kingcome)', ' Eugene', ' Charles Eugene',\n",
       "       ' Julius (Emelia Maria Vandemoortele)', ' Fatima', ' Joseph J',\n",
       "       ' Lawrence', ' Anna \"Annie\"', ' Torborg Danira',\n",
       "       ' Carl Oscar (Selma Augusta Emilia Johansson)', ' Farred Chehab',\n",
       "       ' Charles Alexander', ' Ellen \"Nellie\"', ' Lalio', ' Manuel E',\n",
       "       ' William Augustus (Marie Eugenie)', ' Mary Agatha', ' Edward H',\n",
       "       ' Edgar Joseph', ' Alexander Oskar', ' Hanna', ' Ernest Charles',\n",
       "       ' Augusta Maria', ' Jamila', ' Johan (Johanna Persdotter Larsson)',\n",
       "       ' William John Robert (Dorothy Ann Wonnacott)', ' Theodor',\n",
       "       ' Simonne Marie Anne Andree', ' Margaret Delia', ' William John',\n",
       "       ' Denis', ' Bridget', ' Youssef', ' Josef (Josefine Franchi)',\n",
       "       ' Juha Niilo', ' Richard Cater', ' Henry Sleeper (Myna Haxtun)',\n",
       "       ' Lizzie (Elizabeth Anne Wilkinson)', ' Engelhart Cornelius',\n",
       "       ' Hugh', ' Emily', ' Mansouer', ' Constance Mirium',\n",
       "       ' William Frederick', ' Orsen', ' Amelie', ' Henry Birkhardt',\n",
       "       ' Harald', ' Albert A', ' Gerios', ' (Elizabeth Ramell)',\n",
       "       ' Ernest James', ' Erna Alexandra', ' Vincenz', ' Stephen Curnow',\n",
       "       ' Lillian Amy', ' Ambrose Jr', ' Apostolos', ' Lee',\n",
       "       ' Sigurd Hansen', ' Ivan', ' Rahamin Haim', ' Alden Gates',\n",
       "       ' Achille', ' Jan Baptist', ' Brigdet Delia', ' Francisco M',\n",
       "       ' Bertha', ' Karl Alfred (Maria Mathilda Gustafsson)',\n",
       "       ' William Neal', ' Selman Francis', ' Mabel Helen', ' Francesco',\n",
       "       ' Emil', ' Paul Edvin', ' Herbert Fuller', ' Bertram Frank',\n",
       "       ' Daniel', ' Charles Joseph', ' George B', ' William Bertram',\n",
       "       ' John T (Ada Julia Bone)', ' Sinai', ' Matilda',\n",
       "       ' Pastcho (\"Pentcho\")', ' Richard Frasar', ' Gustaf Joel',\n",
       "       ' Anders Vilhelm', ' Stoytcho', ' Anna Kristine', ' Albert Johan',\n",
       "       ' Tido', ' Walter Chamberlain', ' Hileni', ' David John',\n",
       "       ' Katriina', ' Malake', ' Edvard', ' Patrick',\n",
       "       ' William John Robert', ' Quigg Edmond', ' Ellis Anna Maria',\n",
       "       ' Stanley George', ' Leonard Charles', ' Nicholas', ' Susan',\n",
       "       ' Percival Wayland', ' Elias', ' Martin', ' Fridtjof Arne',\n",
       "       ' Anna', ' Johan', ' Jozef', ' Domingos Fernandeo',\n",
       "       ' Alexander A (Grace Charity Laury)',\n",
       "       ' Leopold (Mathilde Francoise Pede)', ' Samuel James Hayden',\n",
       "       ' Emile', ' Helen Monypeny', ' Jacques Heath', ' Olaf Elon',\n",
       "       ' Victor', ' Joseph (Sultana)', ' Anna Sofia',\n",
       "       ' Pekka Pietari (Elin Matilda Dolck)', ' Jeremiah',\n",
       "       ' Edgardo Samuel', ' Joseph Charles',\n",
       "       ' August Edvard (\"Wennerstrom\")', ' Robina Maggie \"Ruby\"',\n",
       "       ' Michel (\"Louis M Hoffman\")', ' Thomas Roussel Davids',\n",
       "       ' Robert James', ' Thomas (Edith Wearne)', ' Alfonzo',\n",
       "       ' Austin Blyler', ' Ole Martin', ' Charles Duane',\n",
       "       ' Katherine \"Katie\"', ' Harry', ' Mile', ' Thomas Henry',\n",
       "       ' John Hatfield', ' James (Elizabeth \"Bessie\" Inglis Milne)',\n",
       "       ' John Viktor', ' Jovo', ' Eino Viljami',\n",
       "       ' Frank John William \"Frankie\"', ' (Edith Martha Bowerman)',\n",
       "       ' William (Anna Bernhardina Karlsson)', ' John D', ' Wyckoff',\n",
       "       ' Arthur', ' Eleanor Ileen', ' Antti Wilhelm', ' James Clinch',\n",
       "       ' Klas Albin', ' Henry Forbes', ' Ann Elizabeth', ' Reginald',\n",
       "       ' Lionel', ' Constance Gladys', ' Rene', ' Clarence Gustaf Hugo',\n",
       "       ' Richard F', ' Luise Gretchen', ' Hugh Roscoe',\n",
       "       ' Thomas (Johanna \"Hannah\" Godfrey)',\n",
       "       ' Charles Hallace (\"Mr C Rolmane\")', ' John', ' Stjepan',\n",
       "       ' (Rosa)', ' William', ' Carla Christine Nielsine', ' Michel M',\n",
       "       ' James Joseph (Margaret Tobin)', ' Elise', ' Robert',\n",
       "       ' Karl Siegwart Andreas', ' Margaret \"Maggie\"',\n",
       "       ' Henriette (\"Mrs Harbeck\")', ' Nestor Cyriel', ' Frederick',\n",
       "       ' Jakob Alfred', ' Gerious', ' Gurshon \"Gus\"', ' Telma Matilda',\n",
       "       ' Karl Alfred', ' Nassef Cassem', ' Helen \"Ellen\"', ' Henry',\n",
       "       ' Ahmed', ' Clear Annie', ' John Henry', ' Hans Kristensen',\n",
       "       ' Philip', ' Madeleine', ' Eliina', ' Sidney Samuel', ' Albina',\n",
       "       ' Walter', ' Victor Francis', ' James H', ' George Henry',\n",
       "       ' Christo', ' Frederick Maxfield', ' Karl Ivar Sven',\n",
       "       ' John Hall (\"Henry\")', ' Arne Jonas', ' Mathilde',\n",
       "       ' Henry Birkhardt (Irene Wallach)', ' Bengt Edvin', ' Ernst Adolf',\n",
       "       ' Lillian Gertrud', ' Robert William Norman', ' Alice Phoebe',\n",
       "       ' Stephen', ' Marjorie \"Lottie\"', ' Frederick William', ' Thamine',\n",
       "       ' Katherine \"Kate\"', ' Reginald Charles', ' Matti Alexanteri',\n",
       "       ' Sleiman', ' William Edward', ' Agda Thorilda Viktoria',\n",
       "       ' William (Anna)', ' Richard Leonard', ' Ernest Courtenay',\n",
       "       ' James George', ' Wilhelm (Elna Matilda Persson)',\n",
       "       ' William Thomas', ' William Arthur',\n",
       "       ' Viktor (Helena Wilhelmina)', ' Darwis (Hanne Youssef Razi)',\n",
       "       ' Gertrude Maybelle', ' Gladys', ' (Lutie Davis)', ' Thomas',\n",
       "       ' Edvin Rojj Felix', ' Delia', ' David', ' Ernesti Arvid',\n",
       "       ' Ernst Ulrik', ' William Thompson (Edith Junkins)', ' Amelia',\n",
       "       ' Alexander', ' (Elizabeth Anne Maidment)', ' Charles H',\n",
       "       ' Hanora \"Nora\"', ' Kornelia Theodosia', ' Augusta Charlotta',\n",
       "       ' Francis \"Frank\"', ' Eric', ' Stanton (Rosa Hunt)', ' Frank',\n",
       "       ' Nils Johan Goransson', ' Alfons', ' Edward Arthur',\n",
       "       ' Richard William', ' Theodore', ' Penko', ' Masabumi', ' Kate',\n",
       "       ' Dickinson H (Helen Walton)', ' Rene Jacques', ' Aloisia',\n",
       "       ' Ervin G', ' Mansour', ' Helen Loraine', ' Adolphe',\n",
       "       ' James (Helene DeLaudeniere Chaput)',\n",
       "       ' Anna Katherine \"Annie Kate\"', ' Bernard', ' William Cahoone Jr',\n",
       "       ' Nora A', ' Howard Hugh \"Harry\"', ' Hudson Trevor', ' Margaret',\n",
       "       ' Victor de Satode (Maria Josefa Perez de Soto y Vallejo)',\n",
       "       ' Samuel', ' Laura Mabel', ' Margaret Bechstein', ' Emily Borie',\n",
       "       ' William (Anna Sylfven)', ' Ignjac', ' Benjamin',\n",
       "       ' Helmina Josefina', ' Sinai (Miriam Sternin)', ' Ernest',\n",
       "       ' Mary Natalie', ' Frederic Oakley (Margaretta Corning Stone)',\n",
       "       ' Yoto', ' Hilda Mary', ' Albert Francis (Sylvia Mae Harbaugh)',\n",
       "       ' George John Jr', ' Marie Grice', ' Johan Hansen',\n",
       "       ' (Ada E Hall)', ' Frank John (Emily Alice Brown)',\n",
       "       ' Jean Gertrude', ' Agnes', ' Austen', ' George Edward',\n",
       "       ' Leo Edmondus', ' Henry William (Clara Heinsheimer)', ' Mitto',\n",
       "       ' Thomas Clinton', ' Elizabeth Margaret', ' Karl Edwart',\n",
       "       ' Stephen Weart', ' Edmond Roger', ' Alice Elizabeth',\n",
       "       ' Erik Gustaf', ' Charles Frederick Waddington', ' Stanley Hubert',\n",
       "       ' Amelia \"Mildred\"', ' Marion Elsie',\n",
       "       ' Thomas Henry (Mary E Finck)', ' William Loch \"William\"',\n",
       "       ' Jovan', ' Nils Martin', ' Fletcher Fellows', ' Tannous',\n",
       "       ' Josef', ' Wazli', ' Leo Peter', ' Elsie Edith', ' Annie Clemmer',\n",
       "       ' Mary', ' Helen Mary \"Ellie\"', ' Wilhelm', ' Sebastiano',\n",
       "       ' (Catherine David)', ' Adola', ' Mauritz Nils Martin',\n",
       "       ' Frank Manley (Anna Sophia Atkinson)', ' (Mantoura Boulos)',\n",
       "       ' Annie', ' Leontine Pauline', ' George Achilles', ' Sante',\n",
       "       ' Stina Viola', ' Edgar Joseph (Leila Saks)', ' Aurora Adelia',\n",
       "       ' Harry Elkins', ' Karl Gideon', ' Rosalie', ' Maria (\"Mary\")',\n",
       "       ' Juho', ' Alexander Oskar (Mary Aline Towner)', ' Vasil',\n",
       "       ' Charles Henry', ' Sidney Leonard', ' Matthew', ' William Ernest',\n",
       "       ' Carl Olof', ' Johan Birger', ' Marjorie',\n",
       "       ' Hjalmar (Agnes Charlotta Bengtsson)', ' Erik', ' Elina',\n",
       "       ' Peter David', ' Alfred', ' William H (Jessie L)', ' Juha',\n",
       "       ' Mari Aina', ' Pekka Pietari', ' Marija', ' Shadrach',\n",
       "       ' Carl/Charles Peter', ' William Rowe', ' Hans Martin Monsen',\n",
       "       ' Ida', ' Todor', ' Daisy E', ' Alfred Fleming', ' Johan Julian',\n",
       "       ' Thomas (Annie Louise Rowley)',\n",
       "       ' James Vivian (Lulu Thorne Christian)', ' Lyyli Karoliina',\n",
       "       ' Catharina', ' Stanio', ' Leo',\n",
       "       ' Ernst Gilbert (Anna Sigrid Maria Brogren)', ' Viktor Richard',\n",
       "       ' Phillippe', ' Charles V (Ada Maria Winfield)',\n",
       "       ' Kate Florence (\"Mrs Kate Louise Phillips Marshall\")',\n",
       "       ' Berk (Berk Trembisky)', ' Mauritz Hakan',\n",
       "       ' Percival (Florence Kate White)',\n",
       "       ' Charles Alexander (Alice Adelaide Slow)', ' Nikolai Erland',\n",
       "       ' William Baird', ' Lucile Polk', ' Doolina Margaret \"Daisy\"',\n",
       "       ' Sidney (Emily Hocking)', ' Mark', ' Johan Henrik Johannesson',\n",
       "       ' Benjamin (Esther Ada Bloomfield)', ' Leon', ' Johan Emil',\n",
       "       ' Encarnacion', ' Bernt', ' Washington', ' Madeleine Violet',\n",
       "       ' Frederic Kimber', ' Marie Catherine', ' Arthur Godfrey',\n",
       "       ' Edwy Arthur', ' Ingvald Olai Olsen', ' Benjamin Laventall',\n",
       "       ' Samuel L', ' Joseph', ' Francis Davis', ' Frederick R (Marion)',\n",
       "       ' Ellen', ' Maurice', ' Arthur H', ' Jacob Christian', ' Simon',\n",
       "       ' Manuel Estanslas', ' John Montgomery', ' Helene Barbara',\n",
       "       ' Luka', ' Edwy Arthur (Ada Mary Worth)',\n",
       "       ' Amin S (Marie Marthe Thuillard)', ' Ida Sofia', ' George Quincy',\n",
       "       ' Peter Henry', ' Lewis Richard', ' Nils August', ' Hildur E',\n",
       "       ' Harold Victor', ' Anthony Wood \"Archie\"', ' Richard Henry',\n",
       "       ' (Hedwig)', ' Dickinson H', ' Jeannie',\n",
       "       ' Frederick Maxfield (Jane Anne Forby)', ' Edward Austin',\n",
       "       ' Francis William', ' Eden Leslie \"Neville\"',\n",
       "       ' Konrad Mathias Reiersen', ' Einar', ' Harry Markland', ' Ramon',\n",
       "       ' Edward Roland', ' Elizabeth Mussey',\n",
       "       ' Hudson J C (Bessie Waldo Daniels)', ' Olof', ' Petar',\n",
       "       ' Bridget Mary', ' Kristina Sofia', ' Roberta',\n",
       "       ' Victor de Satode', ' Frederick Charles (Jane Richards)',\n",
       "       ' George (\"George Arthur Brayton\")', ' Henry Margido', ' Fang',\n",
       "       ' Eugene Patrick', ' James Robert', ' Martin (Elizabeth L',\n",
       "       ' Satio', ' William Anderson', ' (Amelia Milley)',\n",
       "       ' William A (Florence \"Mary\" Agnes Hughes)', ' Stefo', ' Janko',\n",
       "       ' Sarkis', ' Louis Albert (Ida Sophia Fischer)', ' Fared', ' Lucy',\n",
       "       ' Johan Werner', ' Richard George', ' Phyllis May', ' Nakli',\n",
       "       ' Joseph Jr', ' Catherine (Catherine Rizk)', ' Eva Miriam',\n",
       "       ' Archibald Willingham', ' Samuel Beard', ' Hedwig Margaritha',\n",
       "       ' Harriet R', ' Ingeborg Constanzia', ' Sigrid Elisabeth',\n",
       "       ' Edward', ' Walter Donald', ' Arthur Ernest',\n",
       "       ' Edward (Ethel Clarke)', ' Julian', ' Frank John',\n",
       "       ' John Morgan Jr', ' John Borland Jr', ' Percival James R',\n",
       "       ' Timothy', ' Fahim (\"Philip Zenni\")', ' Velin', ' George',\n",
       "       ' (Lucille Christiana Sutherland) (\"Mrs Morgan\")',\n",
       "       ' Emil (Tillie Mandelbaum)', ' Guillaume Joseph (Emma)',\n",
       "       ' Thomas Rowan', ' Husein', ' Robert Douglas', ' (Marion Ogden)',\n",
       "       ' Alfred J', ' Ilia', ' Nils (Alma Cornelia Berglund)', ' Carl',\n",
       "       ' Edward Dale (Charlotte Lamson)', ' John Irwin (\"Irving\")',\n",
       "       ' Alfred George John', ' Ethel', ' William Baird (Alice Munger)',\n",
       "       ' Joseph (Maria Elias)', ' Eiriik', ' Julie Rachel',\n",
       "       ' John Borland (Marian Longstreth Morris)', ' William James',\n",
       "       ' John Hugo', ' Uscher', ' Ruth', ' John Denzil', ' Maxmillian',\n",
       "       ' Eliezer', ' Matti', ' Walter Bertram (Martha Eustis)',\n",
       "       ' Jean Baptiste', ' Jessie Wills', ' Cosmo Edmund (\"Mr Morgan\")',\n",
       "       ' Sidney Samuel (Amy Frances Christy)', ' Petco', ' Ernst William',\n",
       "       ' Harry (\"Mr E Haven\")', ' Edvard Bengtsson', ' Milan',\n",
       "       ' Robert Williams', ' Joseph (Juliette Marie Louise Lafargue)',\n",
       "       ' Elizabeth W', ' Anders Johan (Alfrida Konstantia Brogren)',\n",
       "       ' Jose Neto', ' Margaret Jane', ' William Alfred', ' Alice',\n",
       "       ' Ernst Gilbert', ' William Arthur (Cordelia K Stanlick)',\n",
       "       ' Marion Louise', ' Antoni', ' Edwin Nelson Jr', ' Sahid',\n",
       "       ' Henry Damsgaard', ' David John \"Dai\"', ' Charles Leonard',\n",
       "       ' Gretchen Fiske', ' Guentcho', ' Patrick D',\n",
       "       ' Algernon Henry Wilson', ' Johan Svensson', ' Max',\n",
       "       ' William Henry Marsh', ' Mabel', ' Antti Gustaf', ' Harvey',\n",
       "       ' Juha (Maria Emilia Ojala)', ' Percival', ' Hans Peder', ' Emma',\n",
       "       ' Margit Elizabeth', ' Choong', ' Eugenie', ' Henry Sleeper',\n",
       "       ' Liudevit', ' Oberst Alfons', ' Amy Zillah Elsie', ' Mito',\n",
       "       ' Elsie', ' Johannes Halvorsen', ' Hanora \"Norah\"',\n",
       "       ' Leonard Mark', ' John (Catherine)', ' George Floyd',\n",
       "       ' Arthur Webster', ' Henry William', ' Mohamed', ' Edward Pomeroy',\n",
       "       ' Peju', ' Eino William', ' Lewis', ' Reginald Fenton',\n",
       "       ' Knud Paust', ' Jacob', ' Elmer Zebley (Juliet Cummins Wright)',\n",
       "       ' Thomas William Solomon (Elizabeth Catherine Ford)', ' Thornton',\n",
       "       ' Henry Michael', ' Charles', ' Ennis Hastings', ' Gustaf Hjalmar',\n",
       "       ' Frederick Charles', ' Thomas Drake Martinez', ' Katie',\n",
       "       ' Hammad', ' Thor Anderson', ' Charles Edward',\n",
       "       ' Thomas William Solomon', ' Joseph Philippe Lemercier',\n",
       "       ' Jaako Arnold', ' Branko', ' Eberhard Thelander',\n",
       "       ' Georgette Alexandra', ' Albert Adrian', ' Manca', ' Ali',\n",
       "       ' Khalil', ' John Borland', ' Adolf Mathias Nicolai Olsen',\n",
       "       ' John Jacob (Madeleine Talmadge Force)', ' Spencer Victor',\n",
       "       ' Saiide', ' Henrik Juul', ' Henry Samuel (\"Mr Henry Marshall\")',\n",
       "       ' Florence \"Fannie\"', ' Edward Pennington',\n",
       "       ' Halim Gonios (\"William George\")',\n",
       "       ' Berthe Antonine (\"Mrs de Villiers\")', ' Herman', ' Elmer Zebley',\n",
       "       ' August Viktor', ' Peter Andreas Lauritz Andersen',\n",
       "       ' Caroline Louise', ' Edwina Celia \"Winnie\"', ' Michael',\n",
       "       ' Malkolm Joackim', ' Annie Jessie \"Nina\"', ' Svend Lauritz',\n",
       "       ' Henry Price', ' Norman Campbell',\n",
       "       ' Peter Henry (Lillian Jefferys)', ' Margareth',\n",
       "       ' Kurt Arnold Gottfrid', ' Pieta Sofia', ' Elisabeth Walton',\n",
       "       ' Houssein G N', ' Robert J', ' Moses Aaron', ' Leslie',\n",
       "       ' Edward (Margaret Ann Watson)', ' Gustave J', ' Kanio', ' Minko',\n",
       "       ' Walter James', ' Tyrell William', ' Susan Parker \"Suzette\"',\n",
       "       ' Neal', ' Edward Gifford', ' Rossmore Edward', ' Daniel Warner',\n",
       "       ' Joan', ' Meier', ' Johannes Joseph', ' Samuel (Jane Laver)',\n",
       "       ' Viljo', ' August Sigfrid', ' Percy Andrew', ' Thomas Leonard',\n",
       "       ' of (Lucy Noel Martha Dyer-Edwards)', ' Iisakki Antino Aijo',\n",
       "       ' Hanna Assi', ' William Ernest (Lucile Polk)', ' Hans Linus',\n",
       "       ' John C (Anna Andrews)', ' Arthur Jackson', ' Daniel J',\n",
       "       ' Daniel Danielsen', ' Rene Aime', ' Niels Peder', ' (Mary)',\n",
       "       ' Dibo', ' Elizabeth (Eliza Needs)', ' Pehr Fabian Oliver Malkolm',\n",
       "       ' Roger', ' Virginia Ethel', ' Thomas J',\n",
       "       ' Edward Scott (Elisabeth Walton McMillan)', ' Banoura',\n",
       "       ' Albert Adrian (Vera Gillespie)', ' Milton Clyde', ' Andrew G',\n",
       "       ' Abraham (David Lishin)', ' George Hugh', ' Bertram Vere',\n",
       "       ' Andrew \"Andy\"', ' Stella Anna', ' William Fisher', ' Ristiu',\n",
       "       ' Richard', ' Alice (Farnham)', ' Mara', ' Yousseff',\n",
       "       ' Jean Baptiste (Rosalie Paula Govaert)',\n",
       "       ' Harvey (Charlotte Annie Tate)', ' William Thornton II',\n",
       "       ' Assad Alexander', ' Oskar Arvid', ' Karl Johan', ' Thomas Jr',\n",
       "       ' Ellen Natalia', ' August', ' Norman Campbell (Bertha Griggs)',\n",
       "       ' Richard James', ' Ebba Iris Alfrida', ' Ernest Portage',\n",
       "       ' Wendla Maria', ' Albert', ' John Fredrik Alexander',\n",
       "       ' Karl Thorsten', ' Charles Melville (Clara Jennings Gregg)',\n",
       "       ' Nikola', ' John George', ' (Beila)', ' Urho Abraham', ' Len',\n",
       "       ' Andre', ' Thomas Joseph', ' George Nelson (Martha Evelyn)',\n",
       "       ' Antoni (Selini Alexander)', ' George Sibley', ' Amin',\n",
       "       ' Owen George', ' Sara Rebecca', ' Jakob', ' Chang', ' Pierre',\n",
       "       ' Ilmari Rudolf', ' Thomas Charles', ' Augusta', ' Peter L',\n",
       "       ' Jeso', ' Anthony', ' Douglas Bullen', ' Marin',\n",
       "       ' Samuel L (Edwiga Grabowska)', ' Sigvard Harald Elias',\n",
       "       ' Nourelain', ' Mary Conover', ' Ernest Courtenay (Lilian Hughes)',\n",
       "       ' Sam (Leah Rosen)', ' George Dennick (Mary Hitchcock)',\n",
       "       ' Peter Denis', ' Solomon (Latifa Qurban)', ' Raihed',\n",
       "       ' Claus Peter', ' Frederick Edward',\n",
       "       ' Frederick Joel (Margaret Welles Barron)',\n",
       "       ' Dorothy Edith \"Dolly\"', ' John William', ' (Karolina)',\n",
       "       ' Asuncion', ' Washington Augustus II', ' Philemon',\n",
       "       ' Harold Theodor', ' Cerin', ' Richard Leonard (Sallie Monypeny)',\n",
       "       ' Frans Olof', ' Samuel (Hannah Wizosky)', ' Adele Kiamie \"Jane\"',\n",
       "       ' Alfred Ossian', ' Nedelio', ' Kristo',\n",
       "       ' Thomas Jr (Lily Alexenia Wilson)',\n",
       "       ' William (Imanita Parrish Hall)', ' Johann', ' Gerda Ulrika',\n",
       "       ' Frederick James', ' Henry Jr', ' William (Margaret Norton)',\n",
       "       ' Juozas', ' Margaret Edith', ' Catherine Helen \"Carrie\"',\n",
       "       ' Karl Howell', 'No Value'], dtype=object)"
      ]
     },
     "execution_count": 113,
     "metadata": {},
     "output_type": "execute_result"
    }
   ],
   "source": [
    "df['FirstName'].unique()"
   ]
  },
  {
   "cell_type": "markdown",
   "id": "bd86457a",
   "metadata": {},
   "source": [
    "##### As we can see we have 2 problems. The first one is because one of the person keep having the firstname and the lastname in the same column so we have to fix this."
   ]
  },
  {
   "cell_type": "code",
   "execution_count": 114,
   "id": "163366c0",
   "metadata": {},
   "outputs": [],
   "source": [
    "df['FirstName'] = df['FirstName'].replace('No Value', 'Frederick Maxfield')\n"
   ]
  },
  {
   "cell_type": "code",
   "execution_count": 116,
   "id": "b5aa1d18",
   "metadata": {},
   "outputs": [],
   "source": [
    "df['LastName'] = df['LastName'].replace('Mr. Frederick Maxfield Hoyt', 'Hoyt')\n",
    "\n"
   ]
  },
  {
   "cell_type": "markdown",
   "id": "dcc80ca6",
   "metadata": {},
   "source": [
    "##### And the second one is this, because we have this lastname that its wrong."
   ]
  },
  {
   "cell_type": "code",
   "execution_count": 119,
   "id": "1b8c6d4d",
   "metadata": {},
   "outputs": [],
   "source": [
    "df['FirstName'] = df['FirstName'].replace(' Marguerite Ru&5$$',' Marguerite')"
   ]
  }
 ],
 "metadata": {
  "kernelspec": {
   "display_name": "Python 3 (ipykernel)",
   "language": "python",
   "name": "python3"
  },
  "language_info": {
   "codemirror_mode": {
    "name": "ipython",
    "version": 3
   },
   "file_extension": ".py",
   "mimetype": "text/x-python",
   "name": "python",
   "nbconvert_exporter": "python",
   "pygments_lexer": "ipython3",
   "version": "3.9.15"
  }
 },
 "nbformat": 4,
 "nbformat_minor": 5
}
